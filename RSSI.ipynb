{
 "cells": [
  {
   "cell_type": "markdown",
   "metadata": {},
   "source": [
    "<h2><center>ASSIGNMENT 3 -- GROUP 28</center></h2>\n",
    "<h2><center>Name: DEEP JARIWALA, VASU PATEL, SAYONEE PARIKH</center></h2>\n",
    "<h2><center>SID: 20909290, 20891386, 20919577</center></h2>\n",
    "<h2><center>Problem 4</center></h2>"
   ]
  },
  {
   "cell_type": "markdown",
   "metadata": {},
   "source": [
    "### IMPORTING LIBRARIES"
   ]
  },
  {
   "cell_type": "code",
   "execution_count": 1,
   "metadata": {},
   "outputs": [],
   "source": [
    "# Importing libraries\n",
    "\n",
    "import pandas as pd\n",
    "import numpy as np\n",
    "import matplotlib.pyplot as plt\n",
    "import math\n",
    "import random"
   ]
  },
  {
   "cell_type": "markdown",
   "metadata": {},
   "source": [
    "### GIVEN PARAMETERS"
   ]
  },
  {
   "cell_type": "code",
   "execution_count": 2,
   "metadata": {},
   "outputs": [],
   "source": [
    "# Given Parameters\n",
    "\n",
    "# DEVICE LOCATIONS\n",
    "devices = [[0, 30, 3], [50, 60, 4], [100, 30, 3]]\n",
    "\n",
    "# Average measure RSSI when reciever is 1m away from the transmitter node\n",
    "A = -50\n",
    "\n",
    "# Path loss\n",
    "n = 4\n",
    "\n",
    "# Standard_deviation\n",
    "sd = 5.1"
   ]
  },
  {
   "cell_type": "markdown",
   "metadata": {},
   "source": [
    "### IMPORTANT FUNCTIONS USED TO CALCULATE RSSI AND FINGERPRINT OF THE TILES"
   ]
  },
  {
   "cell_type": "code",
   "execution_count": 3,
   "metadata": {},
   "outputs": [],
   "source": [
    "# RSSI profile as a function of distance for d = 1 to 140m\n",
    "def rssi_model(dist):\n",
    "    RSSI = []\n",
    "    for i in range(len(dist)):\n",
    "        calc = -10*n*np.log(dist[i]) + A\n",
    "        RSSI.append(calc)\n",
    "    return RSSI\n",
    "\n",
    "# calculate 3d distance\n",
    "def dist_3d(d1, d2):\n",
    "    x1 = d1[0]\n",
    "    y1 = d1[1]\n",
    "    z1 = d1[2]\n",
    "    x2 = d2[0]\n",
    "    y2 = d2[1]\n",
    "    z2 = d2[2]\n",
    "    d = math.sqrt(pow(x2 - x1, 2) + pow(y2 - y1, 2) + pow(z2 - z1, 2) * 1.0);\n",
    "    return d\n",
    "\n",
    "# RSSI profile as a function of distance for d = 1 to 140m\n",
    "def rssi_model_sd(dist):\n",
    "    RSSI = []\n",
    "    for i in range(len(dist)):\n",
    "        val = round(random.uniform(-1 ,1))\n",
    "        if val == -1:\n",
    "            calc = -10*n*np.log(dist[i]) + A - sd\n",
    "        elif val == 0:\n",
    "            calc = -10*n*np.log(dist[i]) + A\n",
    "        else:\n",
    "            calc = -10*n*np.log(dist[i]) + A + sd\n",
    "        RSSI.append(calc)\n",
    "    return RSSI\n",
    "\n",
    "# Fingerprint generator for all the center tiles RSSI \n",
    "def fingerprint_generator(tile, devices):\n",
    "    tile_print = []\n",
    "    for i in range(len(tile)):\n",
    "        rssi_temp = [1, 1, 1]\n",
    "        for j in range(len(devices)):\n",
    "            dis = [dist_3d(tile[i], devices[j])]\n",
    "            rssi_temp[j] = rssi_model(dis)\n",
    "        tile_print.append(rssi_temp)\n",
    "    return tile_print\n",
    "\n",
    "# RSSI \n",
    "def rssi_dist_calc(tile, devices):\n",
    "    given_dist = []\n",
    "    for i in range(len(tile)):\n",
    "        rssi_calc = [1, 1, 1]\n",
    "        for j in range(len(devices)):\n",
    "            dis = [dist_3d(tile[i], devices[j])]\n",
    "            rssi_calc[j] = rssi_model_sd(dis)\n",
    "        given_dist.append(rssi_calc)\n",
    "    return given_dist\n",
    "\n",
    "# Finding closest rssi finger print \n",
    "def find_closest_rssi(roaming_obj, defined_prints):\n",
    "    diff_arr = []\n",
    "    diff = [1, 1, 1]\n",
    "    for i in range(len(defined_prints)):\n",
    "        for j in range(3):\n",
    "            diff[j] = abs(defined_prints[i][j] - roaming_obj[0][j])\n",
    "        diff_arr.append(sum(diff))\n",
    "    return diff_arr"
   ]
  },
  {
   "cell_type": "markdown",
   "metadata": {},
   "source": [
    "### RSSI AS A FUNCTION OF DISTANCE"
   ]
  },
  {
   "cell_type": "code",
   "execution_count": 5,
   "metadata": {},
   "outputs": [
    {
     "data": {
      "image/png": "[encoded data removed]",
      "text/plain": [
       "<Figure size 432x288 with 1 Axes>"
      ]
     },
     "metadata": {
      "needs_background": "light"
     },
     "output_type": "display_data"
    }
   ],
   "source": [
    "d = []\n",
    "for i in range(1,141):\n",
    "    d.append(i)\n",
    "rssi_values = rssi_model(d)\n",
    "\n",
    "# Plot for rssi and distance\n",
    "\n",
    "plt.plot(d, rssi_values, c = 'r', marker = '.')\n",
    "plt.xlabel('Distance')\n",
    "plt.ylabel('RSSI_values')\n",
    "plt.title('RSSI distance profile')\n",
    "plt.grid()\n",
    "plt.show()"
   ]
  },
  {
   "cell_type": "markdown",
   "metadata": {},
   "source": [
    "### COORDINATES OF TILE"
   ]
  },
  {
   "cell_type": "code",
   "execution_count": 6,
   "metadata": {},
   "outputs": [],
   "source": [
    "# Tile formation (X-Y is considered as floor)\n",
    "\n",
    "tile = []\n",
    "s_x = 0.5\n",
    "s_y = 0.5\n",
    "s_z = 0\n",
    "for i in range(60):\n",
    "    for j in range(10):\n",
    "        temp = [s_x, s_y, s_z]\n",
    "        tile.append(temp)\n",
    "        s_x += 10\n",
    "    s_x = 0.5\n",
    "    s_y += 1"
   ]
  },
  {
   "cell_type": "markdown",
   "metadata": {},
   "source": [
    "### FORMING TILES"
   ]
  },
  {
   "cell_type": "code",
   "execution_count": 7,
   "metadata": {},
   "outputs": [],
   "source": [
    "prints_tile = fingerprint_generator(tile, devices)\n",
    "prints_tile = np.array(prints_tile)\n",
    "prints_tile = prints_tile.reshape(len(prints_tile),3)\n",
    "\n",
    "roaming_device = [[30, 45, 0]]"
   ]
  },
  {
   "cell_type": "code",
   "execution_count": 8,
   "metadata": {},
   "outputs": [
    {
     "data": {
      "text/plain": [
       "array([[-185.58707128, -224.0119499 , -235.70802922],\n",
       "       [-187.9439953 , -220.80451781, -231.85252168],\n",
       "       [-193.39469708, -217.90728966, -227.63533716],\n",
       "       ...,\n",
       "       [-223.48222933, -171.57576751, -199.34170624],\n",
       "       [-228.07494549, -187.05541941, -192.76940192],\n",
       "       [-232.2534483 , -198.24924443, -187.53560949]])"
      ]
     },
     "execution_count": 8,
     "metadata": {},
     "output_type": "execute_result"
    }
   ],
   "source": [
    "prints_tile"
   ]
  },
  {
   "cell_type": "markdown",
   "metadata": {},
   "source": [
    "### REPEATING THE CALCULATION OF ROAMING DEVICE 10 TIMES TO FIND THE AVERAGE"
   ]
  },
  {
   "cell_type": "code",
   "execution_count": 9,
   "metadata": {},
   "outputs": [],
   "source": [
    "location_values = []\n",
    "for i in range(10):\n",
    "    rssi_reading_roaming_point = rssi_dist_calc(roaming_device, devices)\n",
    "    rssi_reading_roaming_point = np.array(rssi_reading_roaming_point)\n",
    "    rssi_reading_roaming_point = rssi_reading_roaming_point.reshape(1,3)\n",
    "    diff_saved = find_closest_rssi(rssi_reading_roaming_point, prints_tile)\n",
    "    diff_saved_min = diff_saved.index(min(diff_saved))\n",
    "    location_values.append(tile[diff_saved_min])"
   ]
  },
  {
   "cell_type": "code",
   "execution_count": 10,
   "metadata": {},
   "outputs": [],
   "source": [
    "x = []\n",
    "y = []\n",
    "z = []\n",
    "for i in range(len(location_values)):\n",
    "    x.append(location_values[i][0])\n",
    "    y.append(location_values[i][1])\n",
    "    z.append(location_values[i][2])\n",
    "predicted_location = [sum(x)/10, sum(y)/10, sum(z)/10]"
   ]
  },
  {
   "cell_type": "code",
   "execution_count": 11,
   "metadata": {},
   "outputs": [
    {
     "name": "stdout",
     "output_type": "stream",
     "text": [
      " The predicted location is [29.5, 44.7, 0.0]\n"
     ]
    }
   ],
   "source": [
    "original_location = [30, 45, 0]\n",
    "print(f\" The predicted location is {predicted_location}\")"
   ]
  },
  {
   "cell_type": "code",
   "execution_count": 12,
   "metadata": {},
   "outputs": [
    {
     "name": "stdout",
     "output_type": "stream",
     "text": [
      "The distance error observed : 0.5831 units\n"
     ]
    }
   ],
   "source": [
    "location_error = dist_3d(original_location, predicted_location)\n",
    "print(f\"The distance error observed : {round(location_error, 4)} units\")"
   ]
  },
  {
   "cell_type": "markdown",
   "metadata": {},
   "source": [
    "### TRILATERATION 3D"
   ]
  },
  {
   "cell_type": "code",
   "execution_count": 13,
   "metadata": {},
   "outputs": [],
   "source": [
    "def trilaterate3D(distances):\n",
    "    p1=np.array(distances[0][:3])\n",
    "    p2=np.array(distances[1][:3])\n",
    "    p3=np.array(distances[2][:3])       \n",
    "    p4=np.array(distances[3][:3])\n",
    "    r1=distances[0][-1]\n",
    "    r2=distances[1][-1]\n",
    "    r3=distances[2][-1]\n",
    "    r4=distances[3][-1]\n",
    "    e_x=(p2-p1)/np.linalg.norm(p2-p1)\n",
    "    i=np.dot(e_x,(p3-p1))\n",
    "    e_y=(p3-p1-(i*e_x))/(np.linalg.norm(p3-p1-(i*e_x)))\n",
    "    e_z=np.cross(e_x,e_y)\n",
    "    d=np.linalg.norm(p2-p1)\n",
    "    j=np.dot(e_y,(p3-p1))\n",
    "    x=((r1**2)-(r2**2)+(d**2))/(2*d)\n",
    "    y=(((r1**2)-(r3**2)+(i**2)+(j**2))/(2*j))-((i/j)*(x))\n",
    "    z1=np.sqrt(r1**2-x**2-y**2)\n",
    "    z2=np.sqrt(r1**2-x**2-y**2)*(-1)\n",
    "    ans1=p1+(x*e_x)+(y*e_y)+(z1*e_z)\n",
    "    ans2=p1+(x*e_x)+(y*e_y)+(z2*e_z)\n",
    "    dist1=np.linalg.norm(p4-ans1)\n",
    "    dist2=np.linalg.norm(p4-ans2)\n",
    "    if np.abs(r4-dist1)<np.abs(r4-dist2):\n",
    "        return ans1\n",
    "    else: \n",
    "        return ans2"
   ]
  },
  {
   "cell_type": "code",
   "execution_count": 18,
   "metadata": {},
   "outputs": [],
   "source": [
    "dist = [[0, 30, 3, 33.68], [50, 60, 4, 25.32], [100, 30, 3, 71.65], [0, 0, 0, 54.08]]\n",
    "tri_ans = trilaterate3D(dist)"
   ]
  },
  {
   "cell_type": "code",
   "execution_count": 20,
   "metadata": {},
   "outputs": [],
   "source": [
    "final_ans_trilateration = []\n",
    "for i in tri_ans:\n",
    "    final_ans_trilateration.append(round(i, 3))"
   ]
  },
  {
   "cell_type": "code",
   "execution_count": 22,
   "metadata": {},
   "outputs": [
    {
     "name": "stdout",
     "output_type": "stream",
     "text": [
      "The location using trilateration is : [30.003, 45.0, -0.027]\n"
     ]
    }
   ],
   "source": [
    "final_ans_trilateration\n",
    "print(f\"The location using trilateration is : {final_ans_trilateration}\")"
   ]
  },
  {
   "cell_type": "markdown",
   "metadata": {},
   "source": [
    "### COMPARISON BETWEEN BOTH METHODS"
   ]
  },
  {
   "cell_type": "code",
   "execution_count": 24,
   "metadata": {},
   "outputs": [
    {
     "name": "stdout",
     "output_type": "stream",
     "text": [
      "The error between both the methods : 0.5862917362542289\n"
     ]
    }
   ],
   "source": [
    "error = dist_3d(predicted_location, final_ans_trilateration)\n",
    "print(f\"The error between both the methods : {error}\")"
   ]
  }
 ],
 "metadata": {
  "kernelspec": {
   "display_name": "Python 3",
   "language": "python",
   "name": "python3"
  },
  "language_info": {
   "codemirror_mode": {
    "name": "ipython",
    "version": 3
   },
   "file_extension": ".py",
   "mimetype": "text/x-python",
   "name": "python",
   "nbconvert_exporter": "python",
   "pygments_lexer": "ipython3",
   "version": "3.8.5"
  }
 },
 "nbformat": 4,
 "nbformat_minor": 5
}
