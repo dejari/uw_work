{
 "cells": [
  {
   "cell_type": "markdown",
   "metadata": {},
   "source": [
    "<h2><center>ASSIGNMENT 1</center></h2>\n",
    "<h2><center>NAME: DEEP ASHISH JARIWALA</center></h2>\n",
    "<h2><center>SID: 20909290</center></h2>\n",
    "<h2><center>Q: CM6</center></h2>"
   ]
  },
  {
   "cell_type": "markdown",
   "metadata": {},
   "source": [
    "# IRIS DATASET"
   ]
  },
  {
   "cell_type": "markdown",
   "metadata": {},
   "source": [
    "#### IMPORTING LIBRARIES"
   ]
  },
  {
   "cell_type": "code",
   "execution_count": 24,
   "metadata": {},
   "outputs": [],
   "source": [
    "import numpy as np\n",
    "import pandas as pd\n",
    "import matplotlib.pyplot as plt\n",
    "import seaborn as sns\n",
    "sns.set()\n",
    "\n",
    "from sklearn.model_selection import train_test_split\n",
    "from sklearn.neighbors import KNeighborsClassifier\n",
    "from sklearn.metrics import confusion_matrix, accuracy_score\n",
    "from mlxtend.plotting import plot_confusion_matrix\n",
    "from sklearn.metrics import f1_score"
   ]
  },
  {
   "cell_type": "markdown",
   "metadata": {},
   "source": [
    "#### IMPORTING DATASET AND ANALYZING THE DESCRIPTION OF DATASET"
   ]
  },
  {
   "cell_type": "code",
   "execution_count": 25,
   "metadata": {},
   "outputs": [
    {
     "data": {
      "text/html": [
       "<div>\n",
       "<style scoped>\n",
       "    .dataframe tbody tr th:only-of-type {\n",
       "        vertical-align: middle;\n",
       "    }\n",
       "\n",
       "    .dataframe tbody tr th {\n",
       "        vertical-align: top;\n",
       "    }\n",
       "\n",
       "    .dataframe thead th {\n",
       "        text-align: right;\n",
       "    }\n",
       "</style>\n",
       "<table border=\"1\" class=\"dataframe\">\n",
       "  <thead>\n",
       "    <tr style=\"text-align: right;\">\n",
       "      <th></th>\n",
       "      <th>sepal_length</th>\n",
       "      <th>sepal_width</th>\n",
       "      <th>petal_length</th>\n",
       "      <th>petal_width</th>\n",
       "    </tr>\n",
       "  </thead>\n",
       "  <tbody>\n",
       "    <tr>\n",
       "      <td>count</td>\n",
       "      <td>103.000000</td>\n",
       "      <td>103.000000</td>\n",
       "      <td>103.000000</td>\n",
       "      <td>103.000000</td>\n",
       "    </tr>\n",
       "    <tr>\n",
       "      <td>mean</td>\n",
       "      <td>5.868614</td>\n",
       "      <td>3.056778</td>\n",
       "      <td>3.814610</td>\n",
       "      <td>1.210750</td>\n",
       "    </tr>\n",
       "    <tr>\n",
       "      <td>std</td>\n",
       "      <td>0.866055</td>\n",
       "      <td>0.415978</td>\n",
       "      <td>1.739788</td>\n",
       "      <td>0.789955</td>\n",
       "    </tr>\n",
       "    <tr>\n",
       "      <td>min</td>\n",
       "      <td>4.344007</td>\n",
       "      <td>2.115481</td>\n",
       "      <td>1.033031</td>\n",
       "      <td>-0.072203</td>\n",
       "    </tr>\n",
       "    <tr>\n",
       "      <td>25%</td>\n",
       "      <td>5.182506</td>\n",
       "      <td>2.783261</td>\n",
       "      <td>1.574653</td>\n",
       "      <td>0.324021</td>\n",
       "    </tr>\n",
       "    <tr>\n",
       "      <td>50%</td>\n",
       "      <td>5.743375</td>\n",
       "      <td>3.056142</td>\n",
       "      <td>4.092458</td>\n",
       "      <td>1.349398</td>\n",
       "    </tr>\n",
       "    <tr>\n",
       "      <td>75%</td>\n",
       "      <td>6.439874</td>\n",
       "      <td>3.237781</td>\n",
       "      <td>5.070242</td>\n",
       "      <td>1.827568</td>\n",
       "    </tr>\n",
       "    <tr>\n",
       "      <td>max</td>\n",
       "      <td>7.795561</td>\n",
       "      <td>4.249211</td>\n",
       "      <td>6.768611</td>\n",
       "      <td>2.603123</td>\n",
       "    </tr>\n",
       "  </tbody>\n",
       "</table>\n",
       "</div>"
      ],
      "text/plain": [
       "       sepal_length  sepal_width  petal_length  petal_width\n",
       "count    103.000000   103.000000    103.000000   103.000000\n",
       "mean       5.868614     3.056778      3.814610     1.210750\n",
       "std        0.866055     0.415978      1.739788     0.789955\n",
       "min        4.344007     2.115481      1.033031    -0.072203\n",
       "25%        5.182506     2.783261      1.574653     0.324021\n",
       "50%        5.743375     3.056142      4.092458     1.349398\n",
       "75%        6.439874     3.237781      5.070242     1.827568\n",
       "max        7.795561     4.249211      6.768611     2.603123"
      ]
     },
     "execution_count": 25,
     "metadata": {},
     "output_type": "execute_result"
    }
   ],
   "source": [
    "dataset = pd.read_csv(\"iris_dataset_missing.csv\")\n",
    "dataset['sepal_length'].fillna(5.858909, inplace = True)\n",
    "dataset['sepal_width'].fillna(3.059083, inplace = True)\n",
    "dataset['petal_length'].fillna(3.812370, inplace = True)\n",
    "dataset['petal_width'].fillna(1.199708, inplace = True)\n",
    "dataset = dataset[dataset['sepal_width'] >= 1.946010]\n",
    "dataset.drop(dataset[dataset['sepal_width'] > 4.3].index, inplace = True)\n",
    "dataset.describe()"
   ]
  },
  {
   "cell_type": "markdown",
   "metadata": {},
   "source": [
    "<p>All the missing values of the dataset, i.e., NaN values, are replaced by the particular feature's mean in the dataset. The final description of the dataset is shown in the box above. Moreover, all the outliers have been removes which were detected in previous questions</p> "
   ]
  },
  {
   "cell_type": "markdown",
   "metadata": {},
   "source": [
    "#### DATASET PREPARATION BEFORE TRAINING"
   ]
  },
  {
   "cell_type": "code",
   "execution_count": 26,
   "metadata": {},
   "outputs": [],
   "source": [
    "X = dataset.iloc[:,:-1].values\n",
    "y = dataset.iloc[:, -1].values\n",
    "\n",
    "X_train, X_sep, y_train, y_sep = train_test_split(X, y, test_size = 0.4, random_state = 275)\n",
    "X_test, X_val, y_test, y_val = train_test_split(X_sep, y_sep, test_size = 0.5, random_state = 275)"
   ]
  },
  {
   "cell_type": "markdown",
   "metadata": {},
   "source": [
    "<ul>\n",
    "            <li>The features and target are separated and stored in the X and y dataframe, respectively. Then both the                         dataframe are converted to NumPy arrays before splitting the data.</li>\n",
    "            <li>Using the sklearn train_test_split method twice, the numpy arrays are splitted into train,test and validation                   set(60%,20%,20%).</li>\n",
    "            <li><i>X_train shape = (63,4)</i></li>\n",
    "            <li><i>X_test and X_val shape = (21,4)</i></li>\n",
    "            <li><i>y_train shape = (63,1)</i></li>\n",
    "            <li><i>y_test and y_val shape = (21,1)</i></li>\n",
    "</ul>"
   ]
  },
  {
   "cell_type": "markdown",
   "metadata": {},
   "source": [
    "#### TRAINING KNN ON DEFAULT PARAMETERS"
   ]
  },
  {
   "cell_type": "code",
   "execution_count": 27,
   "metadata": {},
   "outputs": [
    {
     "data": {
      "image/png": "[encoded data removed]",
      "text/plain": [
       "<Figure size 432x288 with 1 Axes>"
      ]
     },
     "metadata": {},
     "output_type": "display_data"
    },
    {
     "name": "stdout",
     "output_type": "stream",
     "text": [
      "The accuracy score of KNN algorithm at default parameters: 90.47619047619048%\n"
     ]
    }
   ],
   "source": [
    "knn_validation = KNeighborsClassifier()\n",
    "knn_validation.fit(X_train, y_train)\n",
    "\n",
    "y_pred = knn_validation.predict(X_val)\n",
    "\n",
    "cm = confusion_matrix(y_val, y_pred)\n",
    "fig, ax = plot_confusion_matrix(conf_mat=cm)\n",
    "plt.show()\n",
    "print(f\"The accuracy score of KNN algorithm at default parameters: {accuracy_score(y_val, y_pred)*100}%\")"
   ]
  },
  {
   "cell_type": "markdown",
   "metadata": {},
   "source": [
    "<p>The model is trained based on the default parameters provided by the KNeighborsClassifier i.e. [k = 5, weights = uniform and p = 2 (euclidean_distance)] and it obtained an accuracy of 90.48% on validation set. Based on the results obtained and looking at the confusion matrix the algorithm is confused in classification of iris-versicolor and iris-virginica.</p>"
   ]
  },
  {
   "cell_type": "markdown",
   "metadata": {},
   "source": [
    "#### CHECKING ACCURACY FOR DIFFERENT VALUES OF K"
   ]
  },
  {
   "cell_type": "code",
   "execution_count": 28,
   "metadata": {},
   "outputs": [
    {
     "data": {
      "text/plain": [
       "Text(0.5, 1.0, 'K-NN at different values of K')"
      ]
     },
     "execution_count": 28,
     "metadata": {},
     "output_type": "execute_result"
    },
    {
     "data": {
      "image/png": "[encoded data removed]",
      "text/plain": [
       "<Figure size 432x288 with 1 Axes>"
      ]
     },
     "metadata": {},
     "output_type": "display_data"
    }
   ],
   "source": [
    "# Default training for KNN Model\n",
    "k_val = [1,2,3,4,5,10,15,20,25,30,35]\n",
    "accuracy = []\n",
    "\n",
    "for k in k_val:\n",
    "        knn1 = KNeighborsClassifier(n_neighbors=k)\n",
    "        knn1.fit(X_train, y_train)\n",
    "        y_pred = knn1.predict(X_val)\n",
    "        scr = accuracy_score(y_val, y_pred)\n",
    "        accuracy.append(scr*100)\n",
    "# classification v/s accuracy curve to report the best value of K\n",
    "plt.plot(k_val, accuracy)\n",
    "plt.xlabel(\"K\")\n",
    "plt.ylabel(\"Accuracy\")\n",
    "plt.title(\"K-NN at different values of K\")"
   ]
  },
  {
   "cell_type": "markdown",
   "metadata": {},
   "source": [
    "<p>The above box shows the variation of k (nearest neighbors) to the model's accuracy on the validation set. The table below shows the comparison of accuracy at different values of k.</p>\n",
    "<table>\n",
    "  <tr>\n",
    "    <th>K</th>\n",
    "    <th>Accuracy</th>\n",
    "  </tr>\n",
    "  <tr>\n",
    "    <td>1</td>\n",
    "    <td>100%</td>\n",
    "  </tr>\n",
    "    <tr>\n",
    "    <td>2</td>\n",
    "    <td>80.95%</td>\n",
    "  </tr>\n",
    "    <tr>\n",
    "    <td>3</td>\n",
    "    <td>85.71%</td>\n",
    "  </tr>\n",
    "    <tr>\n",
    "    <td>4</td>\n",
    "    <td>85.71%</td>\n",
    "  </tr>\n",
    "    <tr>\n",
    "    <td>5</td>\n",
    "    <td>90.47%</td>\n",
    "  </tr>\n",
    "     <tr>\n",
    "    <td>10</td>\n",
    "    <td>85.71%</td>\n",
    "  </tr>\n",
    "     <tr>\n",
    "    <td>15</td>\n",
    "    <td>85.71%</td>\n",
    "  </tr>\n",
    "     <tr>\n",
    "    <td>20</td>\n",
    "    <td>85.71%</td>\n",
    "  </tr>\n",
    "     <tr>\n",
    "    <td>25</td>\n",
    "    <td>90.47%</td>\n",
    "  </tr>\n",
    "     <tr>\n",
    "    <td>30</td>\n",
    "    <td>80.95%</td>\n",
    "  </tr>\n",
    "  <tr>\n",
    "    <td>35</td>\n",
    "    <td>52.38%</td>\n",
    "  </tr>\n",
    "</table>\n",
    "<p>Therefore, at k = 1 we have obtained the best accuracy of 100% but it could an overfit of the model on the training set, taking second best accuracy for classification. At k = 5 and k = 25, we have the second best accuracy of 90.47% as the optimum parameter for classification. Therefore, K = 5 is selected as an optimum parameter.\n",
    "\n",
    "\n",
    "\n",
    "</p>"
   ]
  },
  {
   "cell_type": "markdown",
   "metadata": {},
   "source": [
    "<h2><center>ASSIGNMENT 1</center></h2>\n",
    "<h2><center>NAME: DEEP ASHISH JARIWALA</center></h2>\n",
    "<h2><center>SID: 20909290</center></h2>\n",
    "<h2><center>Q: CM7</center></h2>"
   ]
  },
  {
   "cell_type": "markdown",
   "metadata": {},
   "source": [
    "#### TESTING ON TEST SET WITH DEFAULT PARAMETERS"
   ]
  },
  {
   "cell_type": "code",
   "execution_count": 29,
   "metadata": {},
   "outputs": [
    {
     "data": {
      "image/png": "[encoded data removed]",
      "text/plain": [
       "<Figure size 432x288 with 1 Axes>"
      ]
     },
     "metadata": {},
     "output_type": "display_data"
    },
    {
     "name": "stdout",
     "output_type": "stream",
     "text": [
      "The accuracy score of KNN algorithm at default parameters on test set: 80.95238095238095%\n",
      "The F score of KNN algorithm at default parameters on test set: 81.16402116402116%\n"
     ]
    }
   ],
   "source": [
    "knn_test = KNeighborsClassifier(n_neighbors=5)\n",
    "knn_test.fit(X_train, y_train)\n",
    "\n",
    "y_pred = knn_test.predict(X_test)\n",
    "\n",
    "cm = confusion_matrix(y_test, y_pred)\n",
    "fig, ax = plot_confusion_matrix(conf_mat=cm)\n",
    "plt.show()\n",
    "print(f\"The accuracy score of KNN algorithm at default parameters on test set: {accuracy_score(y_test, y_pred)*100}%\")\n",
    "print(f\"The F score of KNN algorithm at default parameters on test set: {f1_score(y_test, y_pred, average='macro')*100}%\")"
   ]
  },
  {
   "cell_type": "markdown",
   "metadata": {},
   "source": [
    "<p>Based on the current score, it seems that model can be improved by varying the default paramters of KNN (p, weights). Another scope of improvement can be made by using normaliztion techniques on the dataset. The goal of normalization is to change the values of numeric columns in the dataset to a common scale, without distorting differences in the ranges of values.</p>"
   ]
  },
  {
   "cell_type": "markdown",
   "metadata": {},
   "source": [
    "#### CHECKING ACCURACY FOR DIFFERENT DISTANCE METRICS PARAMETERS USING VALIDATION SET"
   ]
  },
  {
   "cell_type": "code",
   "execution_count": 30,
   "metadata": {},
   "outputs": [
    {
     "data": {
      "text/plain": [
       "Text(0.5, 1.0, 'K-NN at different distance metrics')"
      ]
     },
     "execution_count": 30,
     "metadata": {},
     "output_type": "execute_result"
    },
    {
     "data": {
      "image/png": "[encoded data removed]",
      "text/plain": [
       "<Figure size 432x288 with 1 Axes>"
      ]
     },
     "metadata": {},
     "output_type": "display_data"
    }
   ],
   "source": [
    "# testing on different distance metrics for the perfect model\n",
    "# p = 1 manhattan, p = 2 eucliden, p = random minkowski\n",
    "dist = ['manhattan|p=1', 'Euclidien|p=2', 'Minkowski|p=3']\n",
    "accy = []\n",
    "for i in range(1,4):\n",
    "    knn_dist = KNeighborsClassifier(n_neighbors=5, weights='distance', p=i)\n",
    "    knn_dist.fit(X_train, y_train)\n",
    "\n",
    "    y_pred_dist = knn_dist.predict(X_val)\n",
    "    score = accuracy_score(y_val, y_pred_dist)\n",
    "    accy.append(score*100)\n",
    "\n",
    "plt.plot(dist,accy)\n",
    "plt.xlabel(\"Distance parameters\")\n",
    "plt.ylabel(\"Accuracy\")\n",
    "plt.title(\"K-NN at different distance metrics\")"
   ]
  },
  {
   "cell_type": "markdown",
   "metadata": {},
   "source": [
    "<p>The above box shows the variation of p (distance metric) to the model's accuracy on the validation set. The table below shows the comparison of accuracy at different values of p.</p>\n",
    "<table>\n",
    "  <tr>\n",
    "    <th>Distance metric</th>\n",
    "    <th>Accuracy</th>\n",
    "  </tr>\n",
    "  <tr>\n",
    "    <td>p=1|Manhattan</td>\n",
    "    <td>95.24%</td>\n",
    "  </tr>\n",
    "    <tr>\n",
    "    <td>p=2|Euclidean</td>\n",
    "    <td>95.24%</td>\n",
    "  </tr>\n",
    "     <tr>\n",
    "    <td>p=random|Minkowski</td>\n",
    "    <td>90.48%</td>\n",
    "  </tr>\n",
    "</table>\n",
    "<p>The accuracy is same for first two measure therfore, the selected default value of p i.e. 2.</p>"
   ]
  },
  {
   "cell_type": "markdown",
   "metadata": {},
   "source": [
    "#### SCALING THE DATASET USING STANDARD SCALER"
   ]
  },
  {
   "cell_type": "code",
   "execution_count": 31,
   "metadata": {},
   "outputs": [],
   "source": [
    "from sklearn.preprocessing import StandardScaler\n",
    "sc = StandardScaler()\n",
    "X_train_scaled = sc.fit_transform(X_train)\n",
    "X_test_scaled = sc.transform(X_test)\n",
    "X_val_scaled = sc.transform(X_val)"
   ]
  },
  {
   "cell_type": "markdown",
   "metadata": {},
   "source": [
    "<p>Standard Scaler is used as a standardization technique, as it organizes the data in such a way that it is distributed normally (Gaussian with 0 mean and unit variance)</p>"
   ]
  },
  {
   "cell_type": "code",
   "execution_count": 32,
   "metadata": {},
   "outputs": [
    {
     "data": {
      "image/png": "[encoded data removed]",
      "text/plain": [
       "<Figure size 432x288 with 1 Axes>"
      ]
     },
     "metadata": {},
     "output_type": "display_data"
    },
    {
     "name": "stdout",
     "output_type": "stream",
     "text": [
      "The accuracy score of KNN algorithm at the best parameters on validation set after nomarlization: 90.47619047619048%\n",
      "The F score of KNN algorithm at the best parameters on test set after nomarlization: 87.96296296296296%\n"
     ]
    }
   ],
   "source": [
    "knn_normalized = KNeighborsClassifier(n_neighbors=5,  weights='distance', p=2)\n",
    "knn_normalized.fit(X_train_scaled, y_train)\n",
    "\n",
    "y_pred = knn_normalized.predict(X_val_scaled)\n",
    "\n",
    "cm = confusion_matrix(y_val, y_pred)\n",
    "fig, ax = plot_confusion_matrix(conf_mat=cm)\n",
    "plt.show()\n",
    "print(f\"The accuracy score of KNN algorithm at the best parameters on validation set after nomarlization: {accuracy_score(y_val, y_pred)*100}%\")\n",
    "print(f\"The F score of KNN algorithm at the best parameters on test set after nomarlization: {f1_score(y_val, y_pred, average='macro')*100}%\")"
   ]
  },
  {
   "cell_type": "markdown",
   "metadata": {},
   "source": [
    "#### EFFECT OF BEST PARAMETERS AND NORMALIZATION OF DATA ON TEST SET"
   ]
  },
  {
   "cell_type": "code",
   "execution_count": 33,
   "metadata": {},
   "outputs": [
    {
     "data": {
      "image/png": "[encoded data removed]",
      "text/plain": [
       "<Figure size 432x288 with 1 Axes>"
      ]
     },
     "metadata": {},
     "output_type": "display_data"
    },
    {
     "name": "stdout",
     "output_type": "stream",
     "text": [
      "The accuracy score of KNN algorithm at the best parameters on test set after nomarlization: 90.47619047619048%\n",
      "The F score of KNN algorithm at the best parameters on test set after nomarlization: 91.07142857142857%\n"
     ]
    }
   ],
   "source": [
    "knn_normalized = KNeighborsClassifier(n_neighbors=5,  weights='distance', p=2)\n",
    "knn_normalized.fit(X_train_scaled, y_train)\n",
    "\n",
    "y_pred = knn_normalized.predict(X_test_scaled)\n",
    "\n",
    "cm = confusion_matrix(y_test, y_pred)\n",
    "fig, ax = plot_confusion_matrix(conf_mat=cm)\n",
    "plt.show()\n",
    "print(f\"The accuracy score of KNN algorithm at the best parameters on test set after nomarlization: {accuracy_score(y_test, y_pred)*100}%\")\n",
    "print(f\"The F score of KNN algorithm at the best parameters on test set after nomarlization: {f1_score(y_test, y_pred, average='macro')*100}%\")"
   ]
  },
  {
   "cell_type": "markdown",
   "metadata": {},
   "source": [
    "<p>To conclude, Many variations were used to train the model and check the accuracy on validation set. The table below shows various aspects that were tested along with the accuracy obtained</p>\n",
    "<table>\n",
    "  <tr>\n",
    "    <th>Paramters used</th>\n",
    "    <th>Accuracy</th>\n",
    "     <th>F1_score</th>\n",
    "  </tr>\n",
    "  <tr>\n",
    "    <td>Default parameters|test_set</td>\n",
    "    <td>80.95%</td>\n",
    "    <td>81.16</td>\n",
    "  </tr>\n",
    "    <tr>\n",
    "    <td>k=5|p=2|Euclidean|weights = distance|validation set</td>\n",
    "    <td>90.48%</td>\n",
    "  </tr>\n",
    "     <tr>\n",
    "    <td>k=5|p=2|Euclidean|weights = distance|standardization|validation set</td>\n",
    "    <td>90.48%</td>\n",
    "    <td>87.96</td>\n",
    "  </tr>\n",
    "    <tr>\n",
    "    <td>k=5|p=2|Euclidean|weights = distance|standardization|testset</td>\n",
    "    <td>90.48%</td>\n",
    "    <td>91.07</td>\n",
    "  </tr>\n",
    "</table>\n",
    "<p>The last column shows the final result that has an accuracy of 90.48%. Normalization and selection of distance metric has improved the model by a large factor. The overall accuracy has been improved to 90.48% from 80.95% on test set using the variations as shown in the above table.</p>"
   ]
  }
 ],
 "metadata": {
  "kernelspec": {
   "display_name": "Python 3",
   "language": "python",
   "name": "python3"
  },
  "language_info": {
   "codemirror_mode": {
    "name": "ipython",
    "version": 3
   },
   "file_extension": ".py",
   "mimetype": "text/x-python",
   "name": "python",
   "nbconvert_exporter": "python",
   "pygments_lexer": "ipython3",
   "version": "3.7.4"
  }
 },
 "nbformat": 4,
 "nbformat_minor": 2
}
