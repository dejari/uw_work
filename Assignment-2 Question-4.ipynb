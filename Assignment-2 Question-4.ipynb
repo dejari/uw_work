{
 "cells": [
  {
   "cell_type": "markdown",
   "metadata": {},
   "source": [
    "<h2><center>ASSIGNMENT 2 -- GROUP 21</center></h2>\n",
    "<h2><center>Name: DEEP JARIWALA, JUGAL KEDIA, JAITOON DHANANI</center></h2>\n",
    "<h2><center>SID: 20909290, 20891429, 20875466</center></h2>\n",
    "<h2><center>Problem 4</center></h2>"
   ]
  },
  {
   "cell_type": "code",
   "execution_count": 1,
   "metadata": {},
   "outputs": [],
   "source": [
    "# Numpy for mathematical operations\n",
    "import numpy as np\n",
    "\n",
    "# Matplotlib for generating plots\n",
    "import matplotlib.pyplot as plt"
   ]
  },
  {
   "cell_type": "code",
   "execution_count": 2,
   "metadata": {},
   "outputs": [],
   "source": [
    "# Declaring the colors dataset \n",
    "data = np.empty((24, 3))"
   ]
  },
  {
   "cell_type": "markdown",
   "metadata": {},
   "source": [
    "Each color is represented as a list of 3 elements which represents the Red, Green and Blue (RGB) component of the color"
   ]
  },
  {
   "cell_type": "code",
   "execution_count": 3,
   "metadata": {},
   "outputs": [],
   "source": [
    "# Shades of red:\n",
    "\n",
    "#dark red\n",
    "data[0] = [139, 0, 0]\n",
    "#crimson\n",
    "data[1] = [220, 20, 60]\n",
    "#red\n",
    "data[2] = [255, 0, 0]\n",
    "#salmon\n",
    "data[3] = [250, 128, 114]\n",
    "#orange red\n",
    "data[4] = [255, 69, 0]\n",
    "\n",
    "# Shades of Green\n",
    "\n",
    "#green\n",
    "data[5] = [0, 128, 0]\n",
    "#sea green\n",
    "data[6] = [46, 139, 87]\n",
    "#lime\n",
    "data[7] = [0, 255, 0]\n",
    "#dark green\n",
    "data[8] = [0, 100, 0]\n",
    "#forest green\n",
    "data[9] = [34, 139, 34]\n",
    "\n",
    "# Shades of blue:\n",
    "\n",
    "#dark blue\n",
    "data[10] = [0, 0, 139]\n",
    "#light sky blue\n",
    "data[11] = [135, 206, 250]\n",
    "#blue\n",
    "data[12] = [0, 0, 255]\n",
    "#dodger blue\n",
    "data[13] = [30, 144, 255]\n",
    "#royal blue\n",
    "data[14] = [65, 105, 225]\n",
    "\n",
    "# Shades of yellow:\n",
    "\n",
    "#yellow\n",
    "data[15] = [255, 255, 0]\n",
    "#gold\n",
    "data[16]= [255, 215, 0]\n",
    "#golden rod\n",
    "data[17] = [218, 165, 32]\n",
    "\n",
    "# Shades of teal:\n",
    "\n",
    "#teal\n",
    "data[18] = [0, 128, 128]\n",
    "#light cyan\n",
    "data[19] = [224, 255, 255]\n",
    "#cyan\n",
    "data[20] = [0, 255, 255]\n",
    "\n",
    "# Shades of pink:\n",
    "\n",
    "#pink\n",
    "data[21] = [255, 192, 203]\n",
    "#deep pink\n",
    "data[22] = [255, 20, 147]\n",
    "#magenta / fuchsia\n",
    "data[23] = [255, 0, 255]\n"
   ]
  },
  {
   "cell_type": "code",
   "execution_count": 4,
   "metadata": {},
   "outputs": [],
   "source": [
    "# Caliberating color code values between 0 and 1.\n",
    "data = data / 255"
   ]
  },
  {
   "cell_type": "code",
   "execution_count": 5,
   "metadata": {},
   "outputs": [],
   "source": [
    "# An array (grid) is used to keep track of indices of neurons in the output layer\n",
    "grid = np.empty((100*100, 2))\n",
    "k = 0\n",
    "for i in range(100):\n",
    "    for j in range(100):\n",
    "        grid[k :] = [i, j]\n",
    "        k += 1"
   ]
  },
  {
   "cell_type": "code",
   "execution_count": 6,
   "metadata": {},
   "outputs": [],
   "source": [
    "# The distance function return the element wise euclidian distance between a vector and an array of vectors\n",
    "def distance(x1, x2):\n",
    "    return np.linalg.norm(x1 - x2, axis=-1)"
   ]
  },
  {
   "cell_type": "code",
   "execution_count": 7,
   "metadata": {},
   "outputs": [],
   "source": [
    "# Finding the winning neuron based on the input.\n",
    "# The get_winner() function returns the (x,y) cordinates of the winning neuron\n",
    "\n",
    "def get_winner(color_vector, our_map):\n",
    "    \n",
    "    d_list = distance(color_vector, our_map)\n",
    "    winner_index = d_list.argmin()\n",
    "    x = np.floor(winner_index / 100)     \n",
    "    y = np.mod(winner_index, 100)   \n",
    "    \n",
    "    return [x, y]"
   ]
  },
  {
   "cell_type": "code",
   "execution_count": 8,
   "metadata": {},
   "outputs": [],
   "source": [
    "def learning_rate_decay(current_epoch, TOTAL_EPOCHS, lr_0):\n",
    "    return lr_0 * np.exp(-current_epoch /TOTAL_EPOCHS)\n",
    "\n",
    "def sigma_decay(current_epoch, TOTAL_EPOCHS, sigma_0):\n",
    "    return sigma_0 * np.exp(-current_epoch / TOTAL_EPOCHS)"
   ]
  },
  {
   "cell_type": "code",
   "execution_count": 9,
   "metadata": {},
   "outputs": [],
   "source": [
    "def update_weights(sigma, lr, color, weights, indices):\n",
    "    \n",
    "    # Calculating distance of this neuron from winning neuron.\n",
    "    dist_from_winning_node = distance(grid, indices)\n",
    "\n",
    "    # Calculating the influence of the winning neuron on this neuron.\n",
    "    influence = np.exp( -(dist_from_winning_node ** 2) / (2 * (sigma ** 2)))\n",
    "    \n",
    "    influence = influence.reshape(-1, 1)    \n",
    "    # Updating the weight of the neuron under consideration.\n",
    "    weights += (lr * influence * (color - weights))\n",
    "            \n",
    "    return weights"
   ]
  },
  {
   "cell_type": "code",
   "execution_count": 10,
   "metadata": {},
   "outputs": [],
   "source": [
    "# Uncomment the below function to save SOM map on local disk \n",
    "\n",
    "def save_image(output_layer, sigma_0, current_epoch):\n",
    "    image = plt.imshow(output_layer)\n",
    "    plt.title(\"Sigma0 = \" + str(sigma_0) + \" || Epoch \" + str(current_epoch))\n",
    "    image_name = \"sigma\" + str(sigma_0) + \" Epoch-\" + str(current_epoch) + \".png\"\n",
    "    plt.savefig(image_name, dpi = 300)\n",
    "    plt.close()"
   ]
  },
  {
   "cell_type": "code",
   "execution_count": 11,
   "metadata": {},
   "outputs": [],
   "source": [
    "def train_SOM(sigma_0):\n",
    "    \n",
    "    current_lr = lr\n",
    "    current_sigma = sigma_0\n",
    "    \n",
    "    SOM = np.random.random((100 * 100, 3))\n",
    "    \n",
    "    for current_epoch in range(1, TOTAL_EPOCHS + 1):\n",
    "        \n",
    "        output_layer = SOM\n",
    "        \n",
    "        # To keep track of iterations\n",
    "        if current_epoch % 500 == 0:\n",
    "            print(\"Sigma0:\", sigma_0, \"Epoch no:\", current_epoch)\n",
    "            \n",
    "        for color in data:           \n",
    "            # Finding the winning node and its distance.\n",
    "            winner_node = get_winner(color, output_layer)\n",
    "            \n",
    "            output_layer = update_weights(current_sigma, current_lr, color, output_layer, winner_node)\n",
    "            \n",
    "        # Updating the sigma for the next iteration.\n",
    "        current_sigma = sigma_decay(current_epoch, TOTAL_EPOCHS, sigma_0)\n",
    "\n",
    "        # Updating the learning rate for the next iteration.\n",
    "        current_lr = learning_rate_decay(current_epoch, TOTAL_EPOCHS, lr)\n",
    "\n",
    "        if current_epoch in [20, 40, 100, 1000]:\n",
    "            \n",
    "            output_layer = output_layer.reshape(100, 100, 3)\n",
    "            \n",
    "            save_weights.append(output_layer.copy())\n",
    "            \n",
    "            try:\n",
    "                save_image(output_layer, sigma_0, current_epoch)\n",
    "            except:\n",
    "                None\n"
   ]
  },
  {
   "cell_type": "code",
   "execution_count": 12,
   "metadata": {},
   "outputs": [
    {
     "name": "stdout",
     "output_type": "stream",
     "text": [
      "Sigma0: 1 Epoch no: 500\n",
      "Sigma0: 1 Epoch no: 1000\n",
      "Sigma0: 10 Epoch no: 500\n",
      "Sigma0: 10 Epoch no: 1000\n",
      "Sigma0: 30 Epoch no: 500\n",
      "Sigma0: 30 Epoch no: 1000\n",
      "Sigma0: 50 Epoch no: 500\n",
      "Sigma0: 50 Epoch no: 1000\n",
      "Sigma0: 70 Epoch no: 500\n",
      "Sigma0: 70 Epoch no: 1000\n"
     ]
    }
   ],
   "source": [
    "np.random.seed(657)\n",
    "\n",
    "TOTAL_EPOCHS = 1000\n",
    "lr = 0.8  \n",
    "save_weights = list()\n",
    "SOM = np.random.random((100 * 100, 3))\n",
    "sigma_0_list = [1, 10, 30, 50, 70]\n",
    "\n",
    "for sigma_0 in sigma_0_list:\n",
    "    train_SOM(sigma_0)"
   ]
  },
  {
   "cell_type": "markdown",
   "metadata": {},
   "source": [
    "## A) Visual representation of SOM's output layer (100 x 100 Neurons)"
   ]
  },
  {
   "cell_type": "markdown",
   "metadata": {},
   "source": [
    "### A.1) Initial Map (randomly initialized)"
   ]
  },
  {
   "cell_type": "code",
   "execution_count": null,
   "metadata": {
    "scrolled": true
   },
   "outputs": [],
   "source": [
    "image = SOM.reshape(100, 100, 3)\n",
    "plt.title(\"SOM's - Randomly initialized weights\")\n",
    "image = plt.imshow(image)"
   ]
  },
  {
   "cell_type": "markdown",
   "metadata": {},
   "source": [
    "### A.2) SOM at various stages; Sigma = 1, 10, 30, 50, 70 and Epoch = 20, 40, 100, 1000"
   ]
  },
  {
   "cell_type": "code",
   "execution_count": null,
   "metadata": {},
   "outputs": [],
   "source": [
    "image1 = save_weights[0] \n",
    "image2 = save_weights[1] \n",
    "image3 = save_weights[2] \n",
    "image4 = save_weights[3]\n",
    "image5 = save_weights[4] \n",
    "image6 = save_weights[5] \n",
    "image7 = save_weights[6] \n",
    "image8 = save_weights[7]\n",
    "image9 = save_weights[8] \n",
    "image10 = save_weights[9] \n",
    "image11 = save_weights[10] \n",
    "image12 = save_weights[11]\n",
    "image13 = save_weights[12] \n",
    "image14 = save_weights[13] \n",
    "image15 = save_weights[14] \n",
    "image16 = save_weights[15]\n",
    "image17 = save_weights[16] \n",
    "image18 = save_weights[17] \n",
    "image19 = save_weights[18] \n",
    "image20 = save_weights[19]"
   ]
  },
  {
   "cell_type": "code",
   "execution_count": null,
   "metadata": {},
   "outputs": [],
   "source": [
    "plt.figure(figsize=(20, 20))\n",
    "\n",
    "plt.subplot(5, 4, 1)\n",
    "plt.title(\"Sigma = 1, Epoch = 20\")\n",
    "plot = plt.imshow(image1)\n",
    "\n",
    "plt.subplot(5, 4, 2)\n",
    "plt.title(\"Sigma = 1, Epoch = 40\")\n",
    "plot = plt.imshow(image2)\n",
    "\n",
    "plt.subplot(5, 4, 3)\n",
    "plt.title(\"Sigma = 1, Epoch = 100\")\n",
    "plot = plt.imshow(image3)\n",
    "\n",
    "plt.subplot(5, 4, 4)\n",
    "plt.title(\"Sigma = 1, Epoch = 1000\")\n",
    "plot = plt.imshow(image4)\n",
    "\n",
    "plt.subplot(5, 4, 5)\n",
    "plt.title(\"Sigma = 10, Epoch = 20\")\n",
    "plot = plt.imshow(image5)\n",
    "\n",
    "plt.subplot(5, 4, 6)\n",
    "plt.title(\"Sigma = 10, Epoch = 40\")\n",
    "plot = plt.imshow(image6)\n",
    "\n",
    "plt.subplot(5, 4, 7)\n",
    "plt.title(\"Sigma = 10, Epoch = 100\")\n",
    "plot = plt.imshow(image7)\n",
    "\n",
    "plt.subplot(5, 4, 8)\n",
    "plt.title(\"Sigma = 10, Epoch = 1000\")\n",
    "plot = plt.imshow(image8)\n",
    "\n",
    "plt.subplot(5, 4, 9)\n",
    "plt.title(\"Sigma = 30, Epoch = 20\")\n",
    "plot = plt.imshow(image9)\n",
    "\n",
    "plt.subplot(5, 4, 10)\n",
    "plt.title(\"Sigma = 30, Epoch = 40\")\n",
    "plot = plt.imshow(image10)\n",
    "\n",
    "plt.subplot(5, 4, 11)\n",
    "plt.title(\"Sigma = 30, Epoch = 100\")\n",
    "plot = plt.imshow(image11)\n",
    "\n",
    "plt.subplot(5, 4, 12)\n",
    "plt.title(\"Sigma = 30, Epoch = 1000\")\n",
    "plot = plt.imshow(image12)\n",
    "\n",
    "plt.subplot(5, 4, 13)\n",
    "plt.title(\"Sigma = 50, Epoch = 20\")\n",
    "plot = plt.imshow(image13)\n",
    "\n",
    "plt.subplot(5, 4, 14)\n",
    "plt.title(\"Sigma = 50, Epoch = 40\")\n",
    "plot = plt.imshow(image14)\n",
    "\n",
    "plt.subplot(5, 4, 15)\n",
    "plt.title(\"Sigma = 50, Epoch = 100\")\n",
    "plot = plt.imshow(image15)\n",
    "\n",
    "plt.subplot(5, 4, 16)\n",
    "plt.title(\"Sigma = 50, Epoch = 1000\")\n",
    "plot = plt.imshow(image16)\n",
    "\n",
    "plt.subplot(5, 4, 17)\n",
    "plt.title(\"Sigma = 70, Epoch = 20\")\n",
    "plot = plt.imshow(image17)\n",
    "\n",
    "plt.subplot(5, 4, 18)\n",
    "plt.title(\"Sigma = 70, Epoch = 40\")\n",
    "plot = plt.imshow(image18)\n",
    "\n",
    "plt.subplot(5, 4, 19)\n",
    "plt.title(\"Sigma = 70, Epoch = 100\")\n",
    "plot = plt.imshow(image19)\n",
    "\n",
    "plt.subplot(5, 4, 20)\n",
    "plt.title(\"Sigma = 70, Epoch = 1000\")\n",
    "plot = plt.imshow(image20)"
   ]
  },
  {
   "cell_type": "markdown",
   "metadata": {},
   "source": [
    "## B) Conclusion:\n",
    "### B.1) Based on spread parameter (sigma)  \n",
    "From the above plots we can see that for small value of sigma (i.e sigma = 1), the winning neuron updates very few of it's neighbouring neurons which results in formation of small similar color clusters. A lot of noise from the initial map still remains even after training for so many iterations. With subsequent iterations there is tiny increase in the size of clusters, and there is not much visible difference between the map state at 20th iteration and the map state at 1000th iteration.  \n",
    "\n",
    "For large values of Sigma (i.e sigma = 30, 50, 70), we can tell that that winning neuron have a larger neighborhood of significant impact. This results in the overlapping of clusters and we observe a smooth change from one colour to another colour on the map.  \n",
    "\n",
    "For sigma values that are neither too large or small (i.e sigma = 10), the winning neuron has impact on larger neighborhood region than that of (sigma = 1), but will not result in overlapping of clusters (as seen with sigma = 30, 50, 70). Thus we are able to observe a large number of distict clusters with very little noise.  "
   ]
  },
  {
   "cell_type": "markdown",
   "metadata": {},
   "source": [
    "### B.2) Based on No. of Iterations (Epochs)\n",
    "\n",
    "Training the map over several iterations results in similar neurons getting grouped together. We observe that in each case (of spread parameter sigma), as the number of iterations progressed, the noise in the map is reduced and the grouping increasingly becomes better.\n",
    "\n",
    "It is notable that for smaller values of sigma, the algorithm takes fewer steps(iterations) to converge and give us best possible cluster representation while, for larger values of sigma the algorithm takes more iterations to converge. Like for sigma = 50 or 70, only after 1000 iterations we can see a good map."
   ]
  },
  {
   "cell_type": "markdown",
   "metadata": {},
   "source": [
    "# Replicate results for user defined values of Sigma  "
   ]
  },
  {
   "cell_type": "code",
   "execution_count": null,
   "metadata": {},
   "outputs": [],
   "source": [
    "# Edit the below 'my_sigma0' value to any sigma of your choice and wait for ~30 seconds for SOM to train. \n",
    "# Example: my_sigma0 = 55\n",
    "\n",
    "my_sigma0 = 55\n",
    "\n",
    "np.random.seed(657)\n",
    " \n",
    "save_weights = list()\n",
    "SOM = np.random.random((100 * 100, 3))\n",
    "\n",
    "train_SOM(my_sigma0)"
   ]
  },
  {
   "cell_type": "code",
   "execution_count": null,
   "metadata": {},
   "outputs": [],
   "source": [
    "image1 = save_weights[0] \n",
    "image2 = save_weights[1] \n",
    "image3 = save_weights[2] \n",
    "image4 = save_weights[3]\n",
    "save_weights = list()"
   ]
  },
  {
   "cell_type": "code",
   "execution_count": null,
   "metadata": {
    "scrolled": true
   },
   "outputs": [],
   "source": [
    "plt.figure(figsize=(20, 20))\n",
    "\n",
    "plt.subplot(1, 4, 1)\n",
    "plt.title(\"Sigma = \"+str(my_sigma0)+\", Epoch = 20\")\n",
    "plot = plt.imshow(image1)\n",
    "\n",
    "plt.subplot(1, 4, 2)\n",
    "plt.title(\"Sigma = \"+str(my_sigma0)+\", Epoch = 40\")\n",
    "plot = plt.imshow(image2)\n",
    "\n",
    "plt.subplot(1, 4, 3)\n",
    "plt.title(\"Sigma = \"+str(my_sigma0)+\", Epoch = 100\")\n",
    "plot = plt.imshow(image3)\n",
    "\n",
    "plt.subplot(1, 4, 4)\n",
    "plt.title(\"Sigma = \"+str(my_sigma0)+\", Epoch = 1000\")\n",
    "plot = plt.imshow(image4)"
   ]
  },
  {
   "cell_type": "markdown",
   "metadata": {},
   "source": [
    "#### References:\n",
    "1) http://www.cs.hmc.edu/~kpang/nn/som.html  \n",
    "2) https://ieeexplore.ieee.org/document/4421574  \n",
    "3) https://en.wikipedia.org/wiki/Self-organizing_map  \n",
    "4) https://github.com/abhinavralhan/kohonen-maps  \n",
    "5) https://medium.com/@abhinavr8/self-organizing-maps-ff5853a118d4"
   ]
  }
 ],
 "metadata": {
  "kernelspec": {
   "display_name": "Python 3",
   "language": "python",
   "name": "python3"
  },
  "language_info": {
   "codemirror_mode": {
    "name": "ipython",
    "version": 3
   },
   "file_extension": ".py",
   "mimetype": "text/x-python",
   "name": "python",
   "nbconvert_exporter": "python",
   "pygments_lexer": "ipython3",
   "version": "3.8.5"
  }
 },
 "nbformat": 4,
 "nbformat_minor": 5
}
