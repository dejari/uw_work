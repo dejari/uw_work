{
 "cells": [
  {
   "cell_type": "markdown",
   "metadata": {},
   "source": [
    "<h2><center>ASSIGNMENT 1</center></h2>\n",
    "<h2><center>NAME: DEEP ASHISH JARIWALA</center></h2>\n",
    "<h2><center>SID: 20909290</center></h2>\n",
    "<h2><center>Q: CM6</center></h2>"
   ]
  },
  {
   "cell_type": "markdown",
   "metadata": {},
   "source": [
    "## HEART DISEASE DATASET"
   ]
  },
  {
   "cell_type": "markdown",
   "metadata": {},
   "source": [
    "#### IMPORTING LIBRARIES"
   ]
  },
  {
   "cell_type": "code",
   "execution_count": 46,
   "metadata": {},
   "outputs": [],
   "source": [
    "import numpy as np\n",
    "import pandas as pd\n",
    "import matplotlib.pyplot as plt\n",
    "import seaborn as sns\n",
    "sns.set()\n",
    "\n",
    "from sklearn.model_selection import train_test_split\n",
    "from sklearn.neighbors import KNeighborsClassifier\n",
    "from sklearn.metrics import confusion_matrix, accuracy_score\n",
    "from mlxtend.plotting import plot_confusion_matrix\n",
    "from sklearn.impute import SimpleImputer\n",
    "from sklearn.metrics import f1_score\n",
    "from sklearn.metrics import roc_auc_score"
   ]
  },
  {
   "cell_type": "markdown",
   "metadata": {},
   "source": [
    "#### IMPORTING THE DATASET"
   ]
  },
  {
   "cell_type": "code",
   "execution_count": 47,
   "metadata": {},
   "outputs": [],
   "source": [
    "dataset = pd.read_csv(\"heart_disease_missing.csv\")\n",
    "dataset['thal'] = dataset['thal'].round()"
   ]
  },
  {
   "cell_type": "markdown",
   "metadata": {},
   "source": [
    "#### SEPERATING THE DATASET INTO FEATURES AND TARGETS"
   ]
  },
  {
   "cell_type": "code",
   "execution_count": 48,
   "metadata": {},
   "outputs": [],
   "source": [
    "dataset_features = dataset.iloc[:,:-1]\n",
    "dataset_target = dataset.iloc[:, -1].values"
   ]
  },
  {
   "cell_type": "markdown",
   "metadata": {},
   "source": [
    "#### ONE HOT-ENCODING FOR CATEGORICAL VARIABLES"
   ]
  },
  {
   "cell_type": "code",
   "execution_count": 49,
   "metadata": {},
   "outputs": [],
   "source": [
    "a = pd.get_dummies(dataset_features['cp'], prefix = \"cp\")\n",
    "b = pd.get_dummies(dataset_features['thal'], prefix = \"thal\")\n",
    "c = pd.get_dummies(dataset_features['slope'], prefix = \"slope\")\n",
    "\n",
    "frames = [dataset_features, a, b, c]\n",
    "dataset_features = pd.concat(frames, axis = 1)"
   ]
  },
  {
   "cell_type": "markdown",
   "metadata": {},
   "source": [
    "#### DEALING WITH MISSING VALUES"
   ]
  },
  {
   "cell_type": "code",
   "execution_count": 50,
   "metadata": {},
   "outputs": [],
   "source": [
    "imp_mean = SimpleImputer(missing_values=np.nan, strategy='mean')\n",
    "imp_mean = imp_mean.fit(dataset_features)\n",
    "dataset_features = imp_mean.transform(dataset_features)"
   ]
  },
  {
   "cell_type": "markdown",
   "metadata": {},
   "source": [
    "<p>All the missing values of the numeric features i.e., NaN values, are replaced by the particular feature's mean in the dataset. The method used to replace the missing values with mean is SimpleInputer. It finds all the nan values and replaces then with the mean of that column. The final shape of the dataset will be a numpy array of dimension <i>(212,23)</i></p> "
   ]
  },
  {
   "cell_type": "markdown",
   "metadata": {},
   "source": [
    "#### DATASET PREPARATION BEFORE TRAINING"
   ]
  },
  {
   "cell_type": "code",
   "execution_count": 51,
   "metadata": {},
   "outputs": [],
   "source": [
    "X_train, X_sep, y_train, y_sep = train_test_split(dataset_features, dataset_target, test_size = 0.4, random_state = 275)\n",
    "X_test, X_val, y_test, y_val = train_test_split(X_sep, y_sep, test_size = 0.5, random_state = 275)"
   ]
  },
  {
   "cell_type": "markdown",
   "metadata": {},
   "source": [
    "<ul>\n",
    "            <li>Using the sklearn train_test_split method twice, the numpy arrays are splitted into train,test and validation                   set(60%,20%,20%).</li>\n",
    "            <li><i>X_train shape = (127, 23)</i></li>\n",
    "            <li><i>X_test and X_val shape = (43, 23)</i></li>\n",
    "            <li><i>y_train shape = (127,1)</i></li>\n",
    "            <li><i>y_test and y_val shape = (43,1)</i></li>\n",
    "</ul>"
   ]
  },
  {
   "cell_type": "markdown",
   "metadata": {},
   "source": [
    "#### TRAINING ON DEFAULT PARAMETERS"
   ]
  },
  {
   "cell_type": "code",
   "execution_count": 52,
   "metadata": {},
   "outputs": [
    {
     "data": {
      "image/png": "[encoded data removed]",
      "text/plain": [
       "<Figure size 432x288 with 1 Axes>"
      ]
     },
     "metadata": {},
     "output_type": "display_data"
    },
    {
     "name": "stdout",
     "output_type": "stream",
     "text": [
      "The accuracy score of KNN algorithm at default parameters: 58.139534883720934%\n",
      "The F1 score of KNN algorithm at default parameters: 64.0%\n"
     ]
    }
   ],
   "source": [
    "knn_validation = KNeighborsClassifier()\n",
    "knn_validation.fit(X_train, y_train)\n",
    "\n",
    "y_pred = knn_validation.predict(X_val)\n",
    "\n",
    "cm = confusion_matrix(y_val, y_pred)\n",
    "fig, ax = plot_confusion_matrix(conf_mat=cm)\n",
    "plt.show()\n",
    "print(f\"The accuracy score of KNN algorithm at default parameters: {accuracy_score(y_val, y_pred)*100}%\")\n",
    "print(f\"The F1 score of KNN algorithm at default parameters: {f1_score(y_val, y_pred)*100}%\")"
   ]
  },
  {
   "cell_type": "markdown",
   "metadata": {},
   "source": [
    "<p>The model is trained based on the default parameters provided by the KNeighborsClassifier i.e. [k = 5, weights = uniform and p = 2 (euclidean_distance)] and it obtained an accuracy of 58.14% on validation set. The conclusion obtained from confusion matrix is that the algorithm is confused in classification of both the targets.</p>"
   ]
  },
  {
   "cell_type": "markdown",
   "metadata": {},
   "source": [
    "#### CHECKING ACCURACY FOR DIFFERENT VALUES OF K"
   ]
  },
  {
   "cell_type": "code",
   "execution_count": 53,
   "metadata": {},
   "outputs": [
    {
     "data": {
      "text/plain": [
       "Text(0.5, 1.0, 'K-NN at different values of K')"
      ]
     },
     "execution_count": 53,
     "metadata": {},
     "output_type": "execute_result"
    },
    {
     "data": {
      "image/png": "[encoded data removed]",
      "text/plain": [
       "<Figure size 432x288 with 1 Axes>"
      ]
     },
     "metadata": {},
     "output_type": "display_data"
    }
   ],
   "source": [
    "k_val = [1,5,10,15,20,25,30,35]\n",
    "accuracy = []\n",
    "\n",
    "for k in k_val:\n",
    "        knn1 = KNeighborsClassifier(n_neighbors=k)\n",
    "        knn1.fit(X_train, y_train)\n",
    "        y_pred = knn1.predict(X_val)\n",
    "        scr = accuracy_score(y_val, y_pred)\n",
    "        accuracy.append(scr*100)\n",
    "# classification v/s accuracy curve to report the best value of K\n",
    "plt.plot(k_val, accuracy)\n",
    "plt.xlabel(\"K\")\n",
    "plt.ylabel(\"Accuracy\")\n",
    "plt.title(\"K-NN at different values of K\")"
   ]
  },
  {
   "cell_type": "markdown",
   "metadata": {},
   "source": [
    "<p>The above box shows the variation of k (nearest neighbors) to the model's accuracy on the validation set. The table below shows the comparison of accuracy at different values of k.</p>\n",
    "<table>\n",
    "  <tr>\n",
    "    <th>K</th>\n",
    "    <th>Accuracy</th>\n",
    "  </tr>\n",
    "  <tr>\n",
    "    <td>1</td>\n",
    "    <td>53.48%</td>\n",
    "  </tr>\n",
    "    <tr>\n",
    "    <td>5</td>\n",
    "    <td>58.14%</td>\n",
    "  </tr>\n",
    "    <tr>\n",
    "    <td>10</td>\n",
    "    <td>62.80%</td>\n",
    "  </tr>\n",
    "    <tr>\n",
    "    <td>15</td>\n",
    "    <td>62.80%</td>\n",
    "  </tr>\n",
    "    <tr>\n",
    "    <td>20</td>\n",
    "    <td>65.12%</td>\n",
    "  </tr>\n",
    "     <tr>\n",
    "    <td>25</td>\n",
    "    <td>65.12%</td>\n",
    "  </tr>\n",
    "     <tr>\n",
    "    <td>30</td>\n",
    "    <td>65.12%</td>\n",
    "  </tr>\n",
    "     <tr>\n",
    "    <td>35</td>\n",
    "    <td>65.12%</td>\n",
    "  </tr>\n",
    "</table>\n",
    "<p>Therefore, at k = 20 we have obtained the best accuracy of 65.12% which will be selected as the best parameter for test set.</p>"
   ]
  },
  {
   "cell_type": "markdown",
   "metadata": {},
   "source": [
    "<h2><center>ASSIGNMENT 1</center></h2>\n",
    "<h2><center>NAME: DEEP ASHISH JARIWALA</center></h2>\n",
    "<h2><center>SID: 20909290</center></h2>\n",
    "<h2><center>Q: CM7</center></h2>"
   ]
  },
  {
   "cell_type": "markdown",
   "metadata": {},
   "source": [
    "#### TESTING ON TEST SET WITH DEFAULT PARAMETERS"
   ]
  },
  {
   "cell_type": "code",
   "execution_count": 54,
   "metadata": {},
   "outputs": [
    {
     "data": {
      "image/png": "[encoded data removed]",
      "text/plain": [
       "<Figure size 432x288 with 1 Axes>"
      ]
     },
     "metadata": {},
     "output_type": "display_data"
    },
    {
     "name": "stdout",
     "output_type": "stream",
     "text": [
      "The accuracy score of KNN algorithm at default parameters on test set: 61.904761904761905%\n",
      "The F1 score of KNN algorithm at default parameters on test set: 65.21739130434783%\n"
     ]
    }
   ],
   "source": [
    "knn_validation = KNeighborsClassifier()\n",
    "knn_validation.fit(X_train, y_train)\n",
    "\n",
    "y_pred = knn_validation.predict(X_test)\n",
    "\n",
    "cm = confusion_matrix(y_test, y_pred)\n",
    "fig, ax = plot_confusion_matrix(conf_mat=cm)\n",
    "plt.show()\n",
    "print(f\"The accuracy score of KNN algorithm at default parameters on test set: {accuracy_score(y_test, y_pred)*100}%\")\n",
    "print(f\"The F1 score of KNN algorithm at default parameters on test set: {f1_score(y_test, y_pred)*100}\")"
   ]
  },
  {
   "cell_type": "markdown",
   "metadata": {},
   "source": [
    "<p>Based on the current score, it seems that model can be improved by varying the default paramters of KNN (p, weights). Another scope of improvement can be made by using normaliztion techniques on the dataset. The goal of normalization is to change the values of numeric columns in the dataset to a common scale, without distorting differences in the ranges of values.</p>"
   ]
  },
  {
   "cell_type": "code",
   "execution_count": 55,
   "metadata": {},
   "outputs": [
    {
     "data": {
      "text/plain": [
       "Text(0.5, 1.0, 'K-NN at different distance metrics')"
      ]
     },
     "execution_count": 55,
     "metadata": {},
     "output_type": "execute_result"
    },
    {
     "data": {
      "image/png": "[encoded data removed]",
      "text/plain": [
       "<Figure size 432x288 with 1 Axes>"
      ]
     },
     "metadata": {},
     "output_type": "display_data"
    }
   ],
   "source": [
    "# testing on different distance metrics for the perfect model\n",
    "# p = 1 manhattan, p = 2 eucliden, p = random minkowski\n",
    "dist = ['manhattan|p=1', 'Euclidien|p=2', 'Minkowski|p=3']\n",
    "accy = []\n",
    "for i in range(1,4):\n",
    "    knn_dist = KNeighborsClassifier(n_neighbors=20, weights='distance', p=i)\n",
    "    knn_dist.fit(X_train, y_train)\n",
    "\n",
    "    y_pred_dist = knn_dist.predict(X_val)\n",
    "    score = accuracy_score(y_val, y_pred_dist)\n",
    "    accy.append(score*100)\n",
    "\n",
    "plt.plot(dist,accy)\n",
    "plt.xlabel(\"Distance parameters\")\n",
    "plt.ylabel(\"Accuracy\")\n",
    "plt.title(\"K-NN at different distance metrics\")"
   ]
  },
  {
   "cell_type": "markdown",
   "metadata": {},
   "source": [
    "<p>The above box shows the variation of p (distance metric) to the model's accuracy on the validation set. The table below shows the comparison of accuracy at different values of p.</p>\n",
    "<table>\n",
    "  <tr>\n",
    "    <th>Distance metric</th>\n",
    "    <th>Accuracy</th>\n",
    "  </tr>\n",
    "  <tr>\n",
    "    <td>p=1|Manhattan</td>\n",
    "    <td>74.42%</td>\n",
    "  </tr>\n",
    "    <tr>\n",
    "    <td>p=2|Euclidean</td>\n",
    "    <td>67.44%</td>\n",
    "  </tr>\n",
    "     <tr>\n",
    "    <td>p=random|Minkowski</td>\n",
    "    <td>62.79%</td>\n",
    "  </tr>\n",
    "</table>\n",
    "<p>The accuracy is highest for manhattan followed by Euclidean.</p>"
   ]
  },
  {
   "cell_type": "markdown",
   "metadata": {},
   "source": [
    "#### SCALING THE DATASET USING STANDARD SCALER"
   ]
  },
  {
   "cell_type": "code",
   "execution_count": 56,
   "metadata": {},
   "outputs": [],
   "source": [
    "from sklearn.preprocessing import StandardScaler\n",
    "sc = StandardScaler()\n",
    "X_train_scaled = sc.fit_transform(X_train)\n",
    "X_test_scaled = sc.transform(X_test)\n",
    "X_val_scaled = sc.transform(X_val)"
   ]
  },
  {
   "cell_type": "markdown",
   "metadata": {},
   "source": [
    "<p>Standard Scaler is used as a standardization technique, as it organizes the data in such a way that it is distributed normally (Gaussian with 0 mean and unit variance)</p>"
   ]
  },
  {
   "cell_type": "code",
   "execution_count": 57,
   "metadata": {},
   "outputs": [
    {
     "data": {
      "image/png": "[encoded data removed]",
      "text/plain": [
       "<Figure size 432x288 with 1 Axes>"
      ]
     },
     "metadata": {},
     "output_type": "display_data"
    },
    {
     "name": "stdout",
     "output_type": "stream",
     "text": [
      "The accuracy score of KNN algorithm at the best parameters on validation set after normalization: 79.06976744186046%\n",
      "The F1 score of KNN algorithm at the best parameters on validation set after normalization: 81.63265306122449%\n"
     ]
    }
   ],
   "source": [
    "knn_normalized_1 = KNeighborsClassifier(n_neighbors=20, weights='distance', p=1)\n",
    "knn_normalized_1.fit(X_train_scaled, y_train)\n",
    "\n",
    "y_pred = knn_normalized_1.predict(X_val_scaled)\n",
    "\n",
    "cm = confusion_matrix(y_val, y_pred)\n",
    "fig, ax = plot_confusion_matrix(conf_mat=cm)\n",
    "plt.show()\n",
    "print(f\"The accuracy score of KNN algorithm at the best parameters on validation set after normalization: {accuracy_score(y_val, y_pred)*100}%\")\n",
    "print(f\"The F1 score of KNN algorithm at the best parameters on validation set after normalization: {f1_score(y_val, y_pred)*100}\")"
   ]
  },
  {
   "cell_type": "code",
   "execution_count": 58,
   "metadata": {},
   "outputs": [
    {
     "data": {
      "image/png": "[encoded data removed]",
      "text/plain": [
       "<Figure size 432x288 with 1 Axes>"
      ]
     },
     "metadata": {},
     "output_type": "display_data"
    },
    {
     "name": "stdout",
     "output_type": "stream",
     "text": [
      "The accuracy score of KNN algorithm at the best parameters on test set after normalization: 90.47619047619048%\n",
      "The F1 score of KNN algorithm at the best parameters on test set after normalization: 92.3076923076923%\n"
     ]
    }
   ],
   "source": [
    "knn_normalized = KNeighborsClassifier(n_neighbors=20, weights='distance', p=1)\n",
    "knn_normalized.fit(X_train_scaled, y_train)\n",
    "\n",
    "y_pred = knn_normalized.predict(X_test_scaled)\n",
    "\n",
    "cm = confusion_matrix(y_test, y_pred)\n",
    "fig, ax = plot_confusion_matrix(conf_mat=cm)\n",
    "plt.show()\n",
    "print(f\"The accuracy score of KNN algorithm at the best parameters on test set after normalization: {accuracy_score(y_test, y_pred)*100}%\")\n",
    "print(f\"The F1 score of KNN algorithm at the best parameters on test set after normalization: {f1_score(y_test, y_pred)*100}\")"
   ]
  },
  {
   "cell_type": "code",
   "execution_count": 59,
   "metadata": {},
   "outputs": [
    {
     "data": {
      "image/png": "[encoded data removed]",
      "text/plain": [
       "<Figure size 432x288 with 1 Axes>"
      ]
     },
     "metadata": {},
     "output_type": "display_data"
    },
    {
     "name": "stdout",
     "output_type": "stream",
     "text": [
      "The Area under the curve - AUC score for the model on the best parameters: 91.11111111111111\n"
     ]
    }
   ],
   "source": [
    "#ROC Curve\n",
    "from sklearn.metrics import roc_curve\n",
    "from sklearn.metrics import roc_auc_score\n",
    "\n",
    "#probabilities\n",
    "ns_probs = [0 for _ in range(len(y_test))]\n",
    "lr_probs = knn_normalized.predict_proba(X_test_scaled)\n",
    "lr_probs = lr_probs[:, 1]\n",
    "\n",
    "ns_auc = roc_auc_score(y_test, ns_probs)\n",
    "lr_auc = roc_auc_score(y_test, lr_probs)\n",
    "\n",
    "# calculate roc curves\n",
    "ns_fpr, ns_tpr, _ = roc_curve(y_test, ns_probs)\n",
    "lr_fpr, lr_tpr, _ = roc_curve(y_test, lr_probs)\n",
    "\n",
    "# plot the roc curve for the model\n",
    "plt.plot(ns_fpr, ns_tpr, color='darkorange', linestyle='--')\n",
    "plt.plot(lr_fpr, lr_tpr, color='navy', marker='.', label='ROC CURVE: AREA = 0.91')\n",
    "\n",
    "# axis labels\n",
    "plt.xlabel('False Positive Rate')\n",
    "plt.ylabel('True Positive Rate')\n",
    "\n",
    "# show the legend\n",
    "plt.legend()\n",
    "\n",
    "# show the plot\n",
    "plt.show()\n",
    "\n",
    "print(f'The Area under the curve - AUC score for the model on the best parameters: {roc_auc_score(y_test, y_pred)*100}')"
   ]
  },
  {
   "cell_type": "markdown",
   "metadata": {},
   "source": [
    "<p>To conclude, Many variations were used to train the model and check the accuracy on validation set. The table below shows various aspects that were tested along with the accuracy obtained</p>\n",
    "<table>\n",
    "  <tr>\n",
    "    <th>Paramters used</th>\n",
    "    <th>Accuracy</th>\n",
    "     <th>F1_score</th>\n",
    "  </tr>\n",
    "  <tr>\n",
    "    <td>Default parameters|test_set</td>\n",
    "    <td>61.90%</td>\n",
    "    <td>65.21</td>\n",
    "  </tr>\n",
    "    <tr>\n",
    "    <td>k=20|p=1|Manhattan|weights = distance|validation set</td>\n",
    "    <td>74.42%</td>\n",
    "  </tr>\n",
    "     <tr>\n",
    "    <td>k=20|p=1|Manhattan|weights = distance|standardization|validation set</td>\n",
    "    <td>79.07%</td>\n",
    "    <td>81.63</td>\n",
    "  </tr>\n",
    "    <tr>\n",
    "    <td>k=20|p=1|Manhattan|weights = distance|standardization|testset</td>\n",
    "    <td>90.48%</td>\n",
    "    <td>92.30</td>\n",
    "  </tr>\n",
    "</table>\n",
    "<p>The last column shows the final result that has an accuracy of 90.48%. Normalization and selection of distance metric has improved the model by a large factor. The overall accuracy has been improved to 90.48% from 61.90% on test set using the variations as shown in the above table.</p>"
   ]
  }
 ],
 "metadata": {
  "kernelspec": {
   "display_name": "Python 3",
   "language": "python",
   "name": "python3"
  },
  "language_info": {
   "codemirror_mode": {
    "name": "ipython",
    "version": 3
   },
   "file_extension": ".py",
   "mimetype": "text/x-python",
   "name": "python",
   "nbconvert_exporter": "python",
   "pygments_lexer": "ipython3",
   "version": "3.7.4"
  }
 },
 "nbformat": 4,
 "nbformat_minor": 2
}
