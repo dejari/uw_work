{
 "cells": [
  {
   "cell_type": "markdown",
   "metadata": {},
   "source": [
    "<h2><center>ASSIGNMENT 1</center></h2>\n",
    "<h2><center>NAME: DEEP ASHISH JARIWALA</center></h2>\n",
    "<h2><center>SID: 20909290</center></h2>\n",
    "<h2><center>Q: CM6</center></h2>"
   ]
  },
  {
   "cell_type": "markdown",
   "metadata": {},
   "source": [
    "## HEART DISEASE DATASET"
   ]
  },
  {
   "cell_type": "markdown",
   "metadata": {},
   "source": [
    "#### IMPORTING LIBRARIES"
   ]
  },
  {
   "cell_type": "code",
   "execution_count": 27,
   "metadata": {},
   "outputs": [],
   "source": [
    "import numpy as np\n",
    "import pandas as pd\n",
    "import matplotlib.pyplot as plt\n",
    "import seaborn as sns\n",
    "sns.set()\n",
    "\n",
    "from sklearn.model_selection import train_test_split\n",
    "from sklearn.neighbors import KNeighborsClassifier\n",
    "from sklearn.metrics import confusion_matrix, accuracy_score\n",
    "from mlxtend.plotting import plot_confusion_matrix"
   ]
  },
  {
   "cell_type": "markdown",
   "metadata": {},
   "source": [
    "#### IMPORTING THE DATASET"
   ]
  },
  {
   "cell_type": "code",
   "execution_count": 28,
   "metadata": {},
   "outputs": [
    {
     "data": {
      "text/html": [
       "<div>\n",
       "<style scoped>\n",
       "    .dataframe tbody tr th:only-of-type {\n",
       "        vertical-align: middle;\n",
       "    }\n",
       "\n",
       "    .dataframe tbody tr th {\n",
       "        vertical-align: top;\n",
       "    }\n",
       "\n",
       "    .dataframe thead th {\n",
       "        text-align: right;\n",
       "    }\n",
       "</style>\n",
       "<table border=\"1\" class=\"dataframe\">\n",
       "  <thead>\n",
       "    <tr style=\"text-align: right;\">\n",
       "      <th></th>\n",
       "      <th>age</th>\n",
       "      <th>sex</th>\n",
       "      <th>cp</th>\n",
       "      <th>trestbps</th>\n",
       "      <th>chol</th>\n",
       "      <th>fbs</th>\n",
       "      <th>restecg</th>\n",
       "      <th>thalach</th>\n",
       "      <th>exang</th>\n",
       "      <th>oldpeak</th>\n",
       "      <th>slope</th>\n",
       "      <th>ca</th>\n",
       "      <th>thal</th>\n",
       "      <th>target</th>\n",
       "    </tr>\n",
       "  </thead>\n",
       "  <tbody>\n",
       "    <tr>\n",
       "      <td>count</td>\n",
       "      <td>212.000000</td>\n",
       "      <td>212.000000</td>\n",
       "      <td>212.000000</td>\n",
       "      <td>205.000000</td>\n",
       "      <td>202.000000</td>\n",
       "      <td>212.000000</td>\n",
       "      <td>207.000000</td>\n",
       "      <td>208.000000</td>\n",
       "      <td>212.000000</td>\n",
       "      <td>200.000000</td>\n",
       "      <td>210.000000</td>\n",
       "      <td>212.000000</td>\n",
       "      <td>211.000000</td>\n",
       "      <td>212.000000</td>\n",
       "    </tr>\n",
       "    <tr>\n",
       "      <td>mean</td>\n",
       "      <td>54.311321</td>\n",
       "      <td>0.688679</td>\n",
       "      <td>0.957547</td>\n",
       "      <td>131.784610</td>\n",
       "      <td>244.133256</td>\n",
       "      <td>0.132075</td>\n",
       "      <td>0.560386</td>\n",
       "      <td>149.647978</td>\n",
       "      <td>0.344340</td>\n",
       "      <td>1.113106</td>\n",
       "      <td>1.423810</td>\n",
       "      <td>0.731132</td>\n",
       "      <td>2.355450</td>\n",
       "      <td>0.542453</td>\n",
       "    </tr>\n",
       "    <tr>\n",
       "      <td>std</td>\n",
       "      <td>9.145339</td>\n",
       "      <td>0.464130</td>\n",
       "      <td>1.022537</td>\n",
       "      <td>18.057222</td>\n",
       "      <td>46.444257</td>\n",
       "      <td>0.339374</td>\n",
       "      <td>0.535149</td>\n",
       "      <td>22.076206</td>\n",
       "      <td>0.476277</td>\n",
       "      <td>1.255908</td>\n",
       "      <td>0.623622</td>\n",
       "      <td>1.038762</td>\n",
       "      <td>0.586926</td>\n",
       "      <td>0.499374</td>\n",
       "    </tr>\n",
       "    <tr>\n",
       "      <td>min</td>\n",
       "      <td>29.000000</td>\n",
       "      <td>0.000000</td>\n",
       "      <td>0.000000</td>\n",
       "      <td>93.944184</td>\n",
       "      <td>126.085811</td>\n",
       "      <td>0.000000</td>\n",
       "      <td>0.000000</td>\n",
       "      <td>88.032613</td>\n",
       "      <td>0.000000</td>\n",
       "      <td>-0.185668</td>\n",
       "      <td>0.000000</td>\n",
       "      <td>0.000000</td>\n",
       "      <td>1.000000</td>\n",
       "      <td>0.000000</td>\n",
       "    </tr>\n",
       "    <tr>\n",
       "      <td>25%</td>\n",
       "      <td>47.000000</td>\n",
       "      <td>0.000000</td>\n",
       "      <td>0.000000</td>\n",
       "      <td>119.968114</td>\n",
       "      <td>211.969594</td>\n",
       "      <td>0.000000</td>\n",
       "      <td>0.000000</td>\n",
       "      <td>135.946808</td>\n",
       "      <td>0.000000</td>\n",
       "      <td>0.050778</td>\n",
       "      <td>1.000000</td>\n",
       "      <td>0.000000</td>\n",
       "      <td>2.000000</td>\n",
       "      <td>0.000000</td>\n",
       "    </tr>\n",
       "    <tr>\n",
       "      <td>50%</td>\n",
       "      <td>55.000000</td>\n",
       "      <td>1.000000</td>\n",
       "      <td>1.000000</td>\n",
       "      <td>130.010256</td>\n",
       "      <td>241.467023</td>\n",
       "      <td>0.000000</td>\n",
       "      <td>1.000000</td>\n",
       "      <td>151.939216</td>\n",
       "      <td>0.000000</td>\n",
       "      <td>0.726060</td>\n",
       "      <td>1.000000</td>\n",
       "      <td>0.000000</td>\n",
       "      <td>2.000000</td>\n",
       "      <td>1.000000</td>\n",
       "    </tr>\n",
       "    <tr>\n",
       "      <td>75%</td>\n",
       "      <td>61.000000</td>\n",
       "      <td>1.000000</td>\n",
       "      <td>2.000000</td>\n",
       "      <td>139.965470</td>\n",
       "      <td>272.484222</td>\n",
       "      <td>0.000000</td>\n",
       "      <td>1.000000</td>\n",
       "      <td>165.260092</td>\n",
       "      <td>1.000000</td>\n",
       "      <td>1.816733</td>\n",
       "      <td>2.000000</td>\n",
       "      <td>1.000000</td>\n",
       "      <td>3.000000</td>\n",
       "      <td>1.000000</td>\n",
       "    </tr>\n",
       "    <tr>\n",
       "      <td>max</td>\n",
       "      <td>77.000000</td>\n",
       "      <td>1.000000</td>\n",
       "      <td>3.000000</td>\n",
       "      <td>192.020200</td>\n",
       "      <td>406.932689</td>\n",
       "      <td>1.000000</td>\n",
       "      <td>2.000000</td>\n",
       "      <td>202.138041</td>\n",
       "      <td>1.000000</td>\n",
       "      <td>6.157114</td>\n",
       "      <td>2.000000</td>\n",
       "      <td>4.000000</td>\n",
       "      <td>3.000000</td>\n",
       "      <td>1.000000</td>\n",
       "    </tr>\n",
       "  </tbody>\n",
       "</table>\n",
       "</div>"
      ],
      "text/plain": [
       "              age         sex          cp    trestbps        chol         fbs  \\\n",
       "count  212.000000  212.000000  212.000000  205.000000  202.000000  212.000000   \n",
       "mean    54.311321    0.688679    0.957547  131.784610  244.133256    0.132075   \n",
       "std      9.145339    0.464130    1.022537   18.057222   46.444257    0.339374   \n",
       "min     29.000000    0.000000    0.000000   93.944184  126.085811    0.000000   \n",
       "25%     47.000000    0.000000    0.000000  119.968114  211.969594    0.000000   \n",
       "50%     55.000000    1.000000    1.000000  130.010256  241.467023    0.000000   \n",
       "75%     61.000000    1.000000    2.000000  139.965470  272.484222    0.000000   \n",
       "max     77.000000    1.000000    3.000000  192.020200  406.932689    1.000000   \n",
       "\n",
       "          restecg     thalach       exang     oldpeak       slope          ca  \\\n",
       "count  207.000000  208.000000  212.000000  200.000000  210.000000  212.000000   \n",
       "mean     0.560386  149.647978    0.344340    1.113106    1.423810    0.731132   \n",
       "std      0.535149   22.076206    0.476277    1.255908    0.623622    1.038762   \n",
       "min      0.000000   88.032613    0.000000   -0.185668    0.000000    0.000000   \n",
       "25%      0.000000  135.946808    0.000000    0.050778    1.000000    0.000000   \n",
       "50%      1.000000  151.939216    0.000000    0.726060    1.000000    0.000000   \n",
       "75%      1.000000  165.260092    1.000000    1.816733    2.000000    1.000000   \n",
       "max      2.000000  202.138041    1.000000    6.157114    2.000000    4.000000   \n",
       "\n",
       "             thal      target  \n",
       "count  211.000000  212.000000  \n",
       "mean     2.355450    0.542453  \n",
       "std      0.586926    0.499374  \n",
       "min      1.000000    0.000000  \n",
       "25%      2.000000    0.000000  \n",
       "50%      2.000000    1.000000  \n",
       "75%      3.000000    1.000000  \n",
       "max      3.000000    1.000000  "
      ]
     },
     "execution_count": 28,
     "metadata": {},
     "output_type": "execute_result"
    }
   ],
   "source": [
    "dataset = pd.read_csv(\"heart_disease_missing.csv\")\n",
    "dataset['thal'] = dataset['thal'].round()\n",
    "dataset.head(10)\n",
    "dataset.describe()"
   ]
  },
  {
   "cell_type": "markdown",
   "metadata": {},
   "source": [
    "#### DEALING WITH NaN VALUES AND ANALYSING THE DATASET"
   ]
  },
  {
   "cell_type": "code",
   "execution_count": 29,
   "metadata": {},
   "outputs": [],
   "source": [
    "dataset['thal'].fillna(2, inplace = True)\n",
    "dataset['trestbps'].fillna(131.784610, inplace = True)\n",
    "dataset['thalach'].fillna(149.65, inplace = True)\n",
    "dataset['chol'].fillna(244.133256, inplace = True)\n",
    "dataset['oldpeak'].fillna(1.113106, inplace = True)\n",
    "dataset['restecg'].fillna(1.0, inplace = True)\n",
    "dataset.dropna(subset= ['sex','age','cp','restecg','thal','fbs','restecg','thalach','exang','oldpeak','slope','ca'],inplace=True)\n",
    "dataset_features = dataset.iloc[:,:-1]\n",
    "dataset_target = dataset.iloc[:, -1]"
   ]
  },
  {
   "cell_type": "markdown",
   "metadata": {},
   "source": [
    "<p>All the missing values of the numeric features i.e., NaN values, are replaced by the particular feature's mean in the dataset. However, all the missing values of categorical features are dropped as replacing with the highest frequency could be misleading. The final description of the dataset is shown in the box above.</p> "
   ]
  },
  {
   "cell_type": "code",
   "execution_count": 30,
   "metadata": {},
   "outputs": [
    {
     "data": {
      "text/html": [
       "<div>\n",
       "<style scoped>\n",
       "    .dataframe tbody tr th:only-of-type {\n",
       "        vertical-align: middle;\n",
       "    }\n",
       "\n",
       "    .dataframe tbody tr th {\n",
       "        vertical-align: top;\n",
       "    }\n",
       "\n",
       "    .dataframe thead th {\n",
       "        text-align: right;\n",
       "    }\n",
       "</style>\n",
       "<table border=\"1\" class=\"dataframe\">\n",
       "  <thead>\n",
       "    <tr style=\"text-align: right;\">\n",
       "      <th></th>\n",
       "      <th>age</th>\n",
       "      <th>sex</th>\n",
       "      <th>cp</th>\n",
       "      <th>trestbps</th>\n",
       "      <th>chol</th>\n",
       "      <th>fbs</th>\n",
       "      <th>restecg</th>\n",
       "      <th>thalach</th>\n",
       "      <th>exang</th>\n",
       "      <th>oldpeak</th>\n",
       "      <th>...</th>\n",
       "      <th>cp_0</th>\n",
       "      <th>cp_1</th>\n",
       "      <th>cp_2</th>\n",
       "      <th>cp_3</th>\n",
       "      <th>thal_1.0</th>\n",
       "      <th>thal_2.0</th>\n",
       "      <th>thal_3.0</th>\n",
       "      <th>slope_0.0</th>\n",
       "      <th>slope_1.0</th>\n",
       "      <th>slope_2.0</th>\n",
       "    </tr>\n",
       "  </thead>\n",
       "  <tbody>\n",
       "    <tr>\n",
       "      <td>0</td>\n",
       "      <td>76</td>\n",
       "      <td>0</td>\n",
       "      <td>2</td>\n",
       "      <td>140.102822</td>\n",
       "      <td>197.105970</td>\n",
       "      <td>0</td>\n",
       "      <td>2.0</td>\n",
       "      <td>115.952071</td>\n",
       "      <td>0</td>\n",
       "      <td>1.284822</td>\n",
       "      <td>...</td>\n",
       "      <td>0</td>\n",
       "      <td>0</td>\n",
       "      <td>1</td>\n",
       "      <td>0</td>\n",
       "      <td>0</td>\n",
       "      <td>1</td>\n",
       "      <td>0</td>\n",
       "      <td>0</td>\n",
       "      <td>1</td>\n",
       "      <td>0</td>\n",
       "    </tr>\n",
       "    <tr>\n",
       "      <td>1</td>\n",
       "      <td>43</td>\n",
       "      <td>0</td>\n",
       "      <td>0</td>\n",
       "      <td>132.079599</td>\n",
       "      <td>341.049462</td>\n",
       "      <td>1</td>\n",
       "      <td>0.0</td>\n",
       "      <td>135.970028</td>\n",
       "      <td>1</td>\n",
       "      <td>3.110483</td>\n",
       "      <td>...</td>\n",
       "      <td>1</td>\n",
       "      <td>0</td>\n",
       "      <td>0</td>\n",
       "      <td>0</td>\n",
       "      <td>0</td>\n",
       "      <td>0</td>\n",
       "      <td>1</td>\n",
       "      <td>0</td>\n",
       "      <td>1</td>\n",
       "      <td>0</td>\n",
       "    </tr>\n",
       "    <tr>\n",
       "      <td>2</td>\n",
       "      <td>47</td>\n",
       "      <td>1</td>\n",
       "      <td>2</td>\n",
       "      <td>107.899290</td>\n",
       "      <td>242.822816</td>\n",
       "      <td>0</td>\n",
       "      <td>1.0</td>\n",
       "      <td>152.210039</td>\n",
       "      <td>0</td>\n",
       "      <td>-0.023723</td>\n",
       "      <td>...</td>\n",
       "      <td>0</td>\n",
       "      <td>0</td>\n",
       "      <td>1</td>\n",
       "      <td>0</td>\n",
       "      <td>0</td>\n",
       "      <td>1</td>\n",
       "      <td>0</td>\n",
       "      <td>0</td>\n",
       "      <td>0</td>\n",
       "      <td>1</td>\n",
       "    </tr>\n",
       "    <tr>\n",
       "      <td>3</td>\n",
       "      <td>51</td>\n",
       "      <td>1</td>\n",
       "      <td>2</td>\n",
       "      <td>99.934001</td>\n",
       "      <td>244.133256</td>\n",
       "      <td>0</td>\n",
       "      <td>1.0</td>\n",
       "      <td>143.049207</td>\n",
       "      <td>1</td>\n",
       "      <td>1.195082</td>\n",
       "      <td>...</td>\n",
       "      <td>0</td>\n",
       "      <td>0</td>\n",
       "      <td>1</td>\n",
       "      <td>0</td>\n",
       "      <td>0</td>\n",
       "      <td>1</td>\n",
       "      <td>0</td>\n",
       "      <td>0</td>\n",
       "      <td>1</td>\n",
       "      <td>0</td>\n",
       "    </tr>\n",
       "    <tr>\n",
       "      <td>4</td>\n",
       "      <td>57</td>\n",
       "      <td>1</td>\n",
       "      <td>0</td>\n",
       "      <td>110.103508</td>\n",
       "      <td>334.952353</td>\n",
       "      <td>0</td>\n",
       "      <td>1.0</td>\n",
       "      <td>143.099327</td>\n",
       "      <td>1</td>\n",
       "      <td>3.082052</td>\n",
       "      <td>...</td>\n",
       "      <td>1</td>\n",
       "      <td>0</td>\n",
       "      <td>0</td>\n",
       "      <td>0</td>\n",
       "      <td>0</td>\n",
       "      <td>0</td>\n",
       "      <td>1</td>\n",
       "      <td>0</td>\n",
       "      <td>1</td>\n",
       "      <td>0</td>\n",
       "    </tr>\n",
       "  </tbody>\n",
       "</table>\n",
       "<p>5 rows × 23 columns</p>\n",
       "</div>"
      ],
      "text/plain": [
       "   age  sex  cp    trestbps        chol  fbs  restecg     thalach  exang  \\\n",
       "0   76    0   2  140.102822  197.105970    0      2.0  115.952071      0   \n",
       "1   43    0   0  132.079599  341.049462    1      0.0  135.970028      1   \n",
       "2   47    1   2  107.899290  242.822816    0      1.0  152.210039      0   \n",
       "3   51    1   2   99.934001  244.133256    0      1.0  143.049207      1   \n",
       "4   57    1   0  110.103508  334.952353    0      1.0  143.099327      1   \n",
       "\n",
       "    oldpeak  ...  cp_0  cp_1  cp_2  cp_3  thal_1.0  thal_2.0  thal_3.0  \\\n",
       "0  1.284822  ...     0     0     1     0         0         1         0   \n",
       "1  3.110483  ...     1     0     0     0         0         0         1   \n",
       "2 -0.023723  ...     0     0     1     0         0         1         0   \n",
       "3  1.195082  ...     0     0     1     0         0         1         0   \n",
       "4  3.082052  ...     1     0     0     0         0         0         1   \n",
       "\n",
       "   slope_0.0  slope_1.0  slope_2.0  \n",
       "0          0          1          0  \n",
       "1          0          1          0  \n",
       "2          0          0          1  \n",
       "3          0          1          0  \n",
       "4          0          1          0  \n",
       "\n",
       "[5 rows x 23 columns]"
      ]
     },
     "execution_count": 30,
     "metadata": {},
     "output_type": "execute_result"
    }
   ],
   "source": [
    "a = pd.get_dummies(dataset_features['cp'], prefix = \"cp\")\n",
    "b = pd.get_dummies(dataset_features['thal'], prefix = \"thal\")\n",
    "c = pd.get_dummies(dataset_features['slope'], prefix = \"slope\")\n",
    "\n",
    "frames = [dataset_features, a, b, c]\n",
    "dataset_features = pd.concat(frames, axis = 1)\n",
    "dataset_features.head()"
   ]
  },
  {
   "cell_type": "markdown",
   "metadata": {},
   "source": [
    "#### DATASET PREPARATION BEFORE TRAINING"
   ]
  },
  {
   "cell_type": "code",
   "execution_count": 31,
   "metadata": {},
   "outputs": [
    {
     "data": {
      "text/plain": [
       "(42, 23)"
      ]
     },
     "execution_count": 31,
     "metadata": {},
     "output_type": "execute_result"
    }
   ],
   "source": [
    "X = dataset_features.iloc[:,:].values\n",
    "y = dataset_target.values\n",
    "\n",
    "X_train, X_sep, y_train, y_sep = train_test_split(X, y, test_size = 0.4, random_state = 275)\n",
    "X_test, X_val, y_test, y_val = train_test_split(X_sep, y_sep, test_size = 0.5, random_state = 275)\n",
    "\n",
    "X_val.shape"
   ]
  },
  {
   "cell_type": "markdown",
   "metadata": {},
   "source": [
    "<ul>\n",
    "            <li>The features and target are separated and stored in the X and y dataframe, respectively. Then both the                         dataframe are converted to NumPy arrays before splitting the data.</li>\n",
    "            <li>Using the sklearn train_test_split method twice, the numpy arrays are splitted into train,test and validation                   set(60%,20%,20%).</li>\n",
    "            <li><i>X_train shape = (120, 13)</i></li>\n",
    "            <li><i>X_test and X_val shape = (40, 13)</i></li>\n",
    "            <li><i>y_train shape = (120,1)</i></li>\n",
    "            <li><i>y_test and y_val shape = (40,1)</i></li>\n",
    "</ul>"
   ]
  },
  {
   "cell_type": "markdown",
   "metadata": {},
   "source": [
    "#### TRAINING ON DEFAULT PARAMETERS"
   ]
  },
  {
   "cell_type": "code",
   "execution_count": 32,
   "metadata": {},
   "outputs": [
    {
     "data": {
      "image/png": "[encoded data removed]",
      "text/plain": [
       "<Figure size 432x288 with 1 Axes>"
      ]
     },
     "metadata": {},
     "output_type": "display_data"
    },
    {
     "name": "stdout",
     "output_type": "stream",
     "text": [
      "The accuracy score of KNN algorithm at default parameters: 64.28571428571429%\n"
     ]
    }
   ],
   "source": [
    "knn_validation = KNeighborsClassifier()\n",
    "knn_validation.fit(X_train, y_train)\n",
    "\n",
    "y_pred = knn_validation.predict(X_val)\n",
    "\n",
    "cm = confusion_matrix(y_val, y_pred)\n",
    "fig, ax = plot_confusion_matrix(conf_mat=cm)\n",
    "plt.show()\n",
    "print(f\"The accuracy score of KNN algorithm at default parameters: {accuracy_score(y_val, y_pred)*100}%\")"
   ]
  },
  {
   "cell_type": "markdown",
   "metadata": {},
   "source": [
    "<p>The model is trained based on the default parameters provided by the KNeighborsClassifier i.e. [k = 5, weights = uniform and p = 2 (euclidean_distance)] and it obtained an accuracy of 60.00% on validation set.</p>"
   ]
  },
  {
   "cell_type": "markdown",
   "metadata": {},
   "source": [
    "#### CHECKING ACCURACY FOR DIFFERENT VALUES OF K"
   ]
  },
  {
   "cell_type": "code",
   "execution_count": 33,
   "metadata": {},
   "outputs": [
    {
     "data": {
      "text/plain": [
       "Text(0.5, 1.0, 'K-NN at different values of K')"
      ]
     },
     "execution_count": 33,
     "metadata": {},
     "output_type": "execute_result"
    },
    {
     "data": {
      "image/png": "[encoded data removed]",
      "text/plain": [
       "<Figure size 432x288 with 1 Axes>"
      ]
     },
     "metadata": {},
     "output_type": "display_data"
    }
   ],
   "source": [
    "k_val = [1,5,10,15,20,25,30,35]\n",
    "accuracy = []\n",
    "\n",
    "for k in k_val:\n",
    "        knn1 = KNeighborsClassifier(n_neighbors=k)\n",
    "        knn1.fit(X_train, y_train)\n",
    "        y_pred = knn1.predict(X_val)\n",
    "        scr = accuracy_score(y_val, y_pred)\n",
    "        accuracy.append(scr*100)\n",
    "# classification v/s accuracy curve to report the best value of K\n",
    "plt.plot(k_val, accuracy)\n",
    "plt.xlabel(\"K\")\n",
    "plt.ylabel(\"Accuracy\")\n",
    "plt.title(\"K-NN at different values of K\")"
   ]
  },
  {
   "cell_type": "markdown",
   "metadata": {},
   "source": [
    "<p>The above box shows the variation of k (nearest neighbors) to the model's accuracy on the validation set. The table below shows the comparison of accuracy at different values of k.</p>\n",
    "<table>\n",
    "  <tr>\n",
    "    <th>K</th>\n",
    "    <th>Accuracy</th>\n",
    "  </tr>\n",
    "  <tr>\n",
    "    <td>1</td>\n",
    "    <td>47.5%</td>\n",
    "  </tr>\n",
    "    <tr>\n",
    "    <td>2</td>\n",
    "    <td>60.0%</td>\n",
    "  </tr>\n",
    "    <tr>\n",
    "    <td>3</td>\n",
    "    <td>62.5%</td>\n",
    "  </tr>\n",
    "    <tr>\n",
    "    <td>4</td>\n",
    "    <td>75.00%</td>\n",
    "  </tr>\n",
    "    <tr>\n",
    "    <td>5</td>\n",
    "    <td>60.00%</td>\n",
    "  </tr>\n",
    "     <tr>\n",
    "    <td>10</td>\n",
    "    <td>57.50%</td>\n",
    "  </tr>\n",
    "     <tr>\n",
    "    <td>15</td>\n",
    "    <td>67.5%</td>\n",
    "  </tr>\n",
    "     <tr>\n",
    "    <td>20</td>\n",
    "    <td>55.00%</td>\n",
    "  </tr>\n",
    "     <tr>\n",
    "    <td>25</td>\n",
    "    <td>67.5%</td>\n",
    "  </tr>\n",
    "     <tr>\n",
    "    <td>30</td>\n",
    "    <td>70.0%</td>\n",
    "  </tr>\n",
    "  <tr>\n",
    "    <td>35</td>\n",
    "    <td>65.0%</td>\n",
    "  </tr>\n",
    "</table>\n",
    "<p>Therefore, at k = 4 we have obtained the best accuracy of 75% which will be selected as the best parameter for test set.</p>"
   ]
  },
  {
   "cell_type": "markdown",
   "metadata": {},
   "source": [
    "<h2><center>ASSIGNMENT 1</center></h2>\n",
    "<h2><center>NAME: DEEP ASHISH JARIWALA</center></h2>\n",
    "<h2><center>SID: 20909290</center></h2>\n",
    "<h2><center>Q: CM7</center></h2>"
   ]
  },
  {
   "cell_type": "code",
   "execution_count": 34,
   "metadata": {},
   "outputs": [
    {
     "data": {
      "text/plain": [
       "Text(0.5, 1.0, 'K-NN at different distance metrics')"
      ]
     },
     "execution_count": 34,
     "metadata": {},
     "output_type": "execute_result"
    },
    {
     "data": {
      "image/png": "[encoded data removed]",
      "text/plain": [
       "<Figure size 432x288 with 1 Axes>"
      ]
     },
     "metadata": {},
     "output_type": "display_data"
    }
   ],
   "source": [
    "# testing on different distance metrics for the perfect model\n",
    "# p = 1 manhattan, p = 2 eucliden, p = random minkowski\n",
    "dist = ['manhattan|p=1', 'Euclidien|p=2', 'Minkowski|p=3']\n",
    "accy = []\n",
    "for i in range(1,4):\n",
    "    knn_dist = KNeighborsClassifier(n_neighbors=10, weights='distance', p=i)\n",
    "    knn_dist.fit(X_train, y_train)\n",
    "\n",
    "    y_pred_dist = knn_dist.predict(X_val)\n",
    "    score = accuracy_score(y_val, y_pred_dist)\n",
    "    accy.append(score*100)\n",
    "\n",
    "plt.plot(dist,accy)\n",
    "plt.xlabel(\"Distance parameters\")\n",
    "plt.ylabel(\"Accuracy\")\n",
    "plt.title(\"K-NN at different distance metrics\")"
   ]
  },
  {
   "cell_type": "markdown",
   "metadata": {},
   "source": [
    "<p>The above box shows the variation of p (distance metric) to the model's accuracy on the validation set. The table below shows the comparison of accuracy at different values of p.</p>\n",
    "<table>\n",
    "  <tr>\n",
    "    <th>Distance metric</th>\n",
    "    <th>Accuracy</th>\n",
    "  </tr>\n",
    "  <tr>\n",
    "    <td>p=1|Manhattan</td>\n",
    "    <td>82.5%</td>\n",
    "  </tr>\n",
    "    <tr>\n",
    "    <td>p=2|Euclidean</td>\n",
    "    <td>82.5%</td>\n",
    "  </tr>\n",
    "     <tr>\n",
    "    <td>p=random|Minkowski</td>\n",
    "    <td>82.5%</td>\n",
    "  </tr>\n",
    "</table>\n",
    "<p>The accuracy is same for all the measures therfore, the selected default value of p i.e. 2.</p>"
   ]
  },
  {
   "cell_type": "markdown",
   "metadata": {},
   "source": [
    "#### SCALING THE DATASET USING STANDARD SCALER"
   ]
  },
  {
   "cell_type": "code",
   "execution_count": 35,
   "metadata": {},
   "outputs": [],
   "source": [
    "from sklearn.preprocessing import StandardScaler\n",
    "sc = StandardScaler()\n",
    "X_train_scaled = sc.fit_transform(X_train)\n",
    "X_test_scaled = sc.transform(X_test)\n",
    "X_val_scaled = sc.transform(X_val)"
   ]
  },
  {
   "cell_type": "code",
   "execution_count": 39,
   "metadata": {},
   "outputs": [
    {
     "data": {
      "image/png": "[encoded data removed]",
      "text/plain": [
       "<Figure size 432x288 with 1 Axes>"
      ]
     },
     "metadata": {},
     "output_type": "display_data"
    },
    {
     "name": "stdout",
     "output_type": "stream",
     "text": [
      "The accuracy score of KNN algorithm at the best parameters on validation set after normalization: 80.95238095238095%\n"
     ]
    }
   ],
   "source": [
    "knn_normalized = KNeighborsClassifier(n_neighbors=10, weights='distance', p=2)\n",
    "knn_normalized.fit(X_train_scaled, y_train)\n",
    "\n",
    "y_pred = knn_normalized.predict(X_val_scaled)\n",
    "\n",
    "cm = confusion_matrix(y_val, y_pred)\n",
    "fig, ax = plot_confusion_matrix(conf_mat=cm)\n",
    "plt.show()\n",
    "print(f\"The accuracy score of KNN algorithm at the best parameters on validation set after normalization: {accuracy_score(y_val, y_pred)*100}%\")"
   ]
  },
  {
   "cell_type": "code",
   "execution_count": 37,
   "metadata": {},
   "outputs": [
    {
     "data": {
      "image/png": "[encoded data removed]",
      "text/plain": [
       "<Figure size 432x288 with 1 Axes>"
      ]
     },
     "metadata": {},
     "output_type": "display_data"
    },
    {
     "name": "stdout",
     "output_type": "stream",
     "text": [
      "The accuracy score of KNN algorithm at the best parameters on validation set after normalization: 92.85714285714286%\n"
     ]
    }
   ],
   "source": [
    "knn_normalized = KNeighborsClassifier(n_neighbors=10)\n",
    "knn_normalized.fit(X_train_scaled, y_train)\n",
    "\n",
    "y_pred = knn_normalized.predict(X_test_scaled)\n",
    "\n",
    "cm = confusion_matrix(y_test, y_pred)\n",
    "fig, ax = plot_confusion_matrix(conf_mat=cm)\n",
    "plt.show()\n",
    "print(f\"The accuracy score of KNN algorithm at the best parameters on validation set after normalization: {accuracy_score(y_test, y_pred)*100}%\")"
   ]
  },
  {
   "cell_type": "code",
   "execution_count": 38,
   "metadata": {},
   "outputs": [
    {
     "data": {
      "text/plain": [
       "(126, 23)"
      ]
     },
     "execution_count": 38,
     "metadata": {},
     "output_type": "execute_result"
    }
   ],
   "source": [
    "X_train_scaled.shape"
   ]
  },
  {
   "cell_type": "code",
   "execution_count": null,
   "metadata": {},
   "outputs": [],
   "source": []
  }
 ],
 "metadata": {
  "kernelspec": {
   "display_name": "Python 3",
   "language": "python",
   "name": "python3"
  },
  "language_info": {
   "codemirror_mode": {
    "name": "ipython",
    "version": 3
   },
   "file_extension": ".py",
   "mimetype": "text/x-python",
   "name": "python",
   "nbconvert_exporter": "python",
   "pygments_lexer": "ipython3",
   "version": "3.8.8"
  }
 },
 "nbformat": 4,
 "nbformat_minor": 2
}
