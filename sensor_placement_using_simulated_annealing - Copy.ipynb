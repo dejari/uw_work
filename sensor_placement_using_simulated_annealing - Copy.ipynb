{
 "cells": [
  {
   "cell_type": "code",
   "execution_count": 1,
   "metadata": {
    "scrolled": true
   },
   "outputs": [],
   "source": [
    "import numpy as np\n",
    "import pandas as pd\n",
    "import matplotlib.pyplot as plt\n",
    "from numpy.random import randn\n",
    "from numpy.random import rand\n",
    "from numpy.random import seed\n",
    "import random\n",
    "import math\n",
    "import goto\n",
    "from goto import with_goto"
   ]
  },
  {
   "cell_type": "code",
   "execution_count": 2,
   "metadata": {
    "scrolled": true
   },
   "outputs": [],
   "source": [
    "# GRID FORMATION\n",
    "def grid_formation():\n",
    "    grid = []\n",
    "    max_limit_l = 500\n",
    "    max_limit_b = 500\n",
    "    limit = 20\n",
    "    for i in range(limit,max_limit_l,limit):\n",
    "        for j in range(limit,max_limit_l,limit):\n",
    "            arr = [i,j]\n",
    "            grid.append(arr)\n",
    "    x = []\n",
    "    y = []\n",
    "    for i in range(len(grid)):\n",
    "        x.append(grid[i][0])\n",
    "        y.append(grid[i][1])\n",
    "    return grid,x,y"
   ]
  },
  {
   "cell_type": "code",
   "execution_count": 3,
   "metadata": {
    "scrolled": true
   },
   "outputs": [],
   "source": [
    "grid_1,x_1,y_1 = grid_formation()\n",
    "grid,x,y = grid_formation()"
   ]
  },
  {
   "cell_type": "code",
   "execution_count": 4,
   "metadata": {},
   "outputs": [],
   "source": [
    "# UNIFORM AND RANDOM PLACEMENT OF TARGETS\n",
    "def target_placement(n_targets, grid):\n",
    "    index = []\n",
    "    target_location = []\n",
    "    for i in range(0, n_targets):\n",
    "        n = random.randint(1, len(grid))\n",
    "        index.append(n)\n",
    "    for j in index:\n",
    "        target_location.append(grid[j])\n",
    "        x_t = []\n",
    "        y_t = []\n",
    "        for k in range(len(target_location)):\n",
    "            x_t.append(target_location[k][0])\n",
    "            y_t.append(target_location[k][1])\n",
    "    return target_location,x_t,y_t"
   ]
  },
  {
   "cell_type": "code",
   "execution_count": 5,
   "metadata": {},
   "outputs": [],
   "source": [
    "target_location_final, x_t, y_t = target_placement(17, grid)\n",
    "\n",
    "def remove_element(v1,v2):\n",
    "    index_of_target = []\n",
    "    for i in range(len(v2)):\n",
    "        for j in range(len(v1)):\n",
    "            if (v2[i] == v1[j]):\n",
    "                index_of_target.append(j)\n",
    "    for ele in sorted(index_of_target, reverse = True): \n",
    "        del v1[ele]\n",
    "    return v1"
   ]
  },
  {
   "cell_type": "code",
   "execution_count": 6,
   "metadata": {},
   "outputs": [],
   "source": [
    "sensor_locations = remove_element(grid, target_location_final)"
   ]
  },
  {
   "cell_type": "code",
   "execution_count": 7,
   "metadata": {},
   "outputs": [
    {
     "data": {
      "text/plain": [
       "<matplotlib.collections.PathCollection at 0x1f408bf3400>"
      ]
     },
     "execution_count": 7,
     "metadata": {},
     "output_type": "execute_result"
    },
    {
     "data": {
      "image/png": "[encoded data removed]",
      "text/plain": [
       "<Figure size 432x288 with 1 Axes>"
      ]
     },
     "metadata": {
      "needs_background": "light"
     },
     "output_type": "display_data"
    }
   ],
   "source": [
    "plt.scatter(x, y, c = 'g')\n",
    "plt.scatter(x_t, y_t, c = 'r')"
   ]
  },
  {
   "cell_type": "code",
   "execution_count": 8,
   "metadata": {},
   "outputs": [],
   "source": [
    "def euclidean_dist(p1,p2):\n",
    "    e_dist = sum([(x - t) ** 2 for x,t in zip(p1,p2)])\n",
    "    e_dist = math.sqrt(e_dist)\n",
    "    return e_dist\n",
    "\n",
    "def power_vector(target, sensor, rk):\n",
    "    pv = []\n",
    "    for i in range(len(target)):\n",
    "        temp = []\n",
    "        for j in range(len(sensor)):\n",
    "            if (euclidean_dist(sensor[j], target[i]) < rk):\n",
    "                temp.append(1)\n",
    "            else:\n",
    "                temp.append(0)\n",
    "        pv.append(temp)\n",
    "    return pv"
   ]
  },
  {
   "cell_type": "code",
   "execution_count": 9,
   "metadata": {
    "scrolled": true
   },
   "outputs": [],
   "source": [
    "def objective_function(power_vector):\n",
    "    cost = 300\n",
    "    cost_arr = []\n",
    "    for j in range(len(power_vector)):\n",
    "        cost_arr.append(sum([cost * i for i in power_vector[j]]))\n",
    "    return (sum(cost_arr))"
   ]
  },
  {
   "cell_type": "code",
   "execution_count": 10,
   "metadata": {},
   "outputs": [
    {
     "name": "stdout",
     "output_type": "stream",
     "text": [
      "[8]\n",
      "8\n",
      "[[[480, 60], [200, 220], [100, 180], [460, 480], [20, 80], [120, 360], [320, 220], [340, 60]]]\n"
     ]
    }
   ],
   "source": [
    "# selecting random number of sensors and defining the initial position\n",
    "num = random.randint(1, 5)\n",
    "initial_position = random.sample(sensor_locations, num)\n",
    "initial_power_vectors = power_vector(target_location_final, initial_position, 100) \n",
    "\n",
    "# print(num)\n",
    "# print(initial_position)\n",
    "# print(initial_power_vectors)\n",
    "\n",
    "for i in range(10):\n",
    "\n",
    "    found_num = []\n",
    "    found_pos = []\n",
    "\n",
    "    counter = 0\n",
    "    for k in range(len(initial_power_vectors)):\n",
    "        if sum(initial_power_vectors[k]) > 0:\n",
    "            counter += 0\n",
    "        else:\n",
    "            counter += 1\n",
    "\n",
    "    # correct_pos = remove_element(initial_position, incorrect_pos)\n",
    "\n",
    "    if counter == 0:\n",
    "        new_cost = objective_function(initial_power_vectors)\n",
    "    else:\n",
    "        for k in range(50000):\n",
    "            my_list = random.sample(sensor_locations, num)\n",
    "            power_vec_new = power_vector(target_location_final, my_list, 100)\n",
    "            c = 0\n",
    "            for k in range(len(power_vec_new)):\n",
    "                if sum(power_vec_new[k]) > 0:\n",
    "                    c += 0\n",
    "                else:\n",
    "                    c += 1\n",
    "            if c == 0:\n",
    "                found_num.append(num)\n",
    "                found_pos.append(my_list)\n",
    "                break\n",
    "        if c > 0:\n",
    "            num += 1\n",
    "        else:\n",
    "            break\n",
    "print(found_num)\n",
    "print(num)\n",
    "print(found_pos)"
   ]
  },
  {
   "cell_type": "code",
   "execution_count": null,
   "metadata": {},
   "outputs": [],
   "source": []
  },
  {
   "cell_type": "code",
   "execution_count": null,
   "metadata": {},
   "outputs": [],
   "source": []
  },
  {
   "cell_type": "code",
   "execution_count": null,
   "metadata": {},
   "outputs": [],
   "source": []
  },
  {
   "cell_type": "code",
   "execution_count": null,
   "metadata": {},
   "outputs": [],
   "source": [
    "# def simulated_annealing(sensor_loc, target_loc):\n",
    "    \n",
    "#     # selecting random number of sensors and defining the initial position\n",
    "#     num = random.randint(15, 25)\n",
    "#     initial_position = random.sample(sensor_loc, num)\n",
    "#     initial_power_vectors = power_vector(target_loc,initial_position, 70) \n",
    "    \n",
    "#     found_num = []\n",
    "#     found_pos = []\n",
    "#     counter = 0\n",
    "#     for k in range(len(initial_power_vectors)):\n",
    "#         if sum(power_vector_stored[k]) > 0:\n",
    "#             counter += 0\n",
    "#         else:\n",
    "#             counter += 1\n",
    "    \n",
    "#     if counter == 0:\n",
    "#         new_cost = objective_function(initial_power_vectors)\n",
    "#     else:\n",
    "#         for k in range(3000):\n",
    "#             my_list = random.sample(sensor_loc, num)\n",
    "#             power_vec_new = power_vector(target_loc, my_list, 70)\n",
    "#             c = 0\n",
    "#             for k in range(len(power_vec_new)):\n",
    "#                 if sum(power_vec_new[k]) > 0:\n",
    "#                     c += 0\n",
    "#                 else:\n",
    "#                     c += 1\n",
    "#             if c == 0:\n",
    "#                 found_num.append(num)\n",
    "#                 found_pos.append(my_list)\n",
    "#                 break\n",
    "#             else:\n",
    "#                 num += 1\n",
    "        \n",
    "        \n",
    "        \n",
    "    \n",
    "    \n",
    "    \n",
    "    "
   ]
  },
  {
   "cell_type": "code",
   "execution_count": null,
   "metadata": {},
   "outputs": [],
   "source": [
    "# best = len(sensor_locations)\n",
    "# best_eval = objective_function(power_vector(target_location_final, sensor_locations, 100))\n",
    "# print(f\"Initial cost with all sensors: {best_eval}\")\n",
    "\n",
    "# curr, curr_eval = best, best_eval\n",
    "    \n",
    "# removed_sensor_list = []\n",
    "\n",
    "# checker = True\n",
    "# times = 0\n",
    "# for i in range(1000):\n",
    "#     while checker:\n",
    "#         random_item = random.choice(sensor_locations)\n",
    "#         removed_sensor_list.append(random_item)\n",
    "\n",
    "#         my_list = remove_element(sensor_locations, removed_sensor_list)\n",
    "#         print(f\"Number of sensors: {len(my_list)}\")\n",
    "#         power_vector_stored = power_vector(target_location_final, my_list, 100)\n",
    "#         counter = 0\n",
    "#         for k in range(len(power_vector_stored)):\n",
    "#             if sum(power_vector_stored[k]) > 0:\n",
    "#                 counter += 0\n",
    "#             else:\n",
    "#                 counter += 1\n",
    "\n",
    "#         if counter > 0:\n",
    "#             for k in range(500):\n",
    "#                 my_list = random.sample(grid_1, len(my_list))\n",
    "#                 power_vec_new = power_vector(target_location_final, my_list, 100)\n",
    "#                 c = 0\n",
    "#                 for k in range(len(power_vec_new)):\n",
    "#                     if sum(power_vec_new[k]) > 0:\n",
    "#                         c += 0\n",
    "#                     else:\n",
    "#                         c += 1\n",
    "#             if c > 0:\n",
    "#                 if (times < 5):\n",
    "#                     checker = True\n",
    "#                     times += 1\n",
    "#                 else:\n",
    "#                     checker = False\n",
    "#                     print(\"optimization reached\")\n",
    "                    \n",
    "\n",
    "#         elif counter == 0:\n",
    "#             new = len(my_list)\n",
    "#             new_eval = objective_function(power_vector(target_location_final, my_list, 100))\n",
    "#             print(f\"New cost: {new_eval}\")"
   ]
  },
  {
   "cell_type": "code",
   "execution_count": 16,
   "metadata": {},
   "outputs": [
    {
     "data": {
      "text/plain": [
       "200"
      ]
     },
     "execution_count": 16,
     "metadata": {},
     "output_type": "execute_result"
    }
   ],
   "source": [
    "my_list[1][0]"
   ]
  },
  {
   "cell_type": "code",
   "execution_count": 17,
   "metadata": {},
   "outputs": [],
   "source": [
    "useless_sensors = []\n",
    "count = 0\n",
    "for k in range(len(my_list)):\n",
    "    for j in range(len(target_location_final)):\n",
    "        if (euclidean_dist(target_location_final[j],my_list[k]) > 100):\n",
    "            count += 1\n",
    "        else:\n",
    "            count += 0\n",
    "    if (count == len(target_location_final)):\n",
    "        useless_sensors.append(my_list[k])"
   ]
  },
  {
   "cell_type": "code",
   "execution_count": 18,
   "metadata": {},
   "outputs": [
    {
     "data": {
      "text/plain": [
       "[[0, 0, 0, 0, 0, 1, 0, 0],\n",
       " [0, 0, 1, 0, 0, 0, 0, 0],\n",
       " [0, 0, 0, 0, 0, 1, 0, 0],\n",
       " [0, 0, 0, 0, 0, 0, 1, 0],\n",
       " [0, 0, 1, 0, 0, 0, 0, 0],\n",
       " [0, 0, 0, 1, 0, 0, 0, 0],\n",
       " [1, 0, 0, 0, 0, 0, 0, 0],\n",
       " [0, 1, 0, 0, 0, 0, 0, 0],\n",
       " [0, 1, 1, 0, 0, 0, 0, 0],\n",
       " [0, 0, 0, 0, 1, 0, 0, 0],\n",
       " [0, 0, 0, 0, 0, 1, 0, 0],\n",
       " [1, 0, 0, 0, 0, 0, 0, 0],\n",
       " [0, 0, 0, 0, 1, 0, 0, 0],\n",
       " [0, 0, 0, 0, 0, 0, 1, 1],\n",
       " [0, 0, 0, 0, 0, 0, 0, 1],\n",
       " [0, 0, 0, 0, 0, 0, 0, 1],\n",
       " [0, 0, 0, 0, 0, 1, 0, 0]]"
      ]
     },
     "execution_count": 18,
     "metadata": {},
     "output_type": "execute_result"
    }
   ],
   "source": [
    "power_vector(target_location_final, my_list, 100)"
   ]
  },
  {
   "cell_type": "code",
   "execution_count": 19,
   "metadata": {},
   "outputs": [],
   "source": [
    "x_f = []\n",
    "y_f = []\n",
    "for k in range(len(my_list)):\n",
    "    x_f.append(my_list[k][0])\n",
    "    y_f.append(my_list[k][1])"
   ]
  },
  {
   "cell_type": "code",
   "execution_count": 20,
   "metadata": {
    "scrolled": true
   },
   "outputs": [
    {
     "data": {
      "text/plain": [
       "<matplotlib.collections.PathCollection at 0x1f408fa2df0>"
      ]
     },
     "execution_count": 20,
     "metadata": {},
     "output_type": "execute_result"
    },
    {
     "data": {
      "image/png": "[encoded data removed]",
      "text/plain": [
       "<Figure size 432x288 with 1 Axes>"
      ]
     },
     "metadata": {
      "needs_background": "light"
     },
     "output_type": "display_data"
    }
   ],
   "source": [
    "plt.scatter(x, y, c = 'g')\n",
    "plt.scatter(x_f, y_f, c = 'y')\n",
    "plt.scatter(x_t, y_t, c = 'r')"
   ]
  },
  {
   "cell_type": "code",
   "execution_count": null,
   "metadata": {},
   "outputs": [],
   "source": [
    "# best = len(sensor_locations)\n",
    "# best_eval = objective_function(power_vector(target_location_final, sensor_locations, 5))\n",
    "# print(f\"Initial cost with all sensors: {best_eval}\")\n",
    "\n",
    "# curr, curr_eval = best, best_eval\n",
    "    \n",
    "# removed_sensor_list = []\n",
    "\n",
    "# checker = True\n",
    "\n",
    "# for i in range(1000):\n",
    "#     while checker:\n",
    "#         random_item = random.choice(sensor_locations)\n",
    "#         removed_sensor_list.append(random_item)\n",
    "\n",
    "#         my_list = remove_element(sensor_locations, removed_sensor_list)\n",
    "#         print(len(my_list))\n",
    "#         power_vector_stored = power_vector(target_location_final, my_list, 5)\n",
    "#         counter = 0\n",
    "#         for k in range(len(power_vector_stored)):\n",
    "#             if sum(power_vector_stored[k]) > 1:\n",
    "#                 counter += 0\n",
    "#             else:\n",
    "#                 counter += 1\n",
    "\n",
    "#         if counter > 0:\n",
    "#             for k in range(500):\n",
    "#                 my_list = random.sample(grid_1, len(my_list))\n",
    "#                 power_vec_new = power_vector(target_location_final, my_list, 5)\n",
    "#                 c = 0\n",
    "#                 for k in range(len(power_vec_new)):\n",
    "#                     if sum(power_vec_new[k]) > 0:\n",
    "#                         c += 0\n",
    "#                     else:\n",
    "#                         c += 1\n",
    "#             if c > 0:\n",
    "#                 checker = False\n",
    "#                 print(\"optimization reached\")\n",
    "\n",
    "#         elif counter == 0:\n",
    "#             new = len(my_list)\n",
    "#             new_eval = objective_function(power_vector(target_location_final, my_list, 5))\n",
    "#             print(new_eval)"
   ]
  }
 ],
 "metadata": {
  "kernelspec": {
   "display_name": "Python 3",
   "language": "python",
   "name": "python3"
  },
  "language_info": {
   "codemirror_mode": {
    "name": "ipython",
    "version": 3
   },
   "file_extension": ".py",
   "mimetype": "text/x-python",
   "name": "python",
   "nbconvert_exporter": "python",
   "pygments_lexer": "ipython3",
   "version": "3.8.5"
  }
 },
 "nbformat": 4,
 "nbformat_minor": 5
}
