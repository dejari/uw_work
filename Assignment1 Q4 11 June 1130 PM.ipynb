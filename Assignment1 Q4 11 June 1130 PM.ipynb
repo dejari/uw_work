{
 "cells": [
  {
   "cell_type": "markdown",
   "metadata": {},
   "source": [
    "<h2><center>ASSIGNMENT 1 -- GROUP 21</center></h2>\n",
    "<h2><center>Name: DEEP JARIWALA, JUGAL KEDIA, JAITOON DHANANI</center></h2>\n",
    "<h2><center>SID: 20909290, 20891429, 20875466</center></h2>\n",
    "<h2><center>Problem 4</center></h2>"
   ]
  },
  {
   "cell_type": "markdown",
   "metadata": {},
   "source": [
    "## Import Libraries"
   ]
  },
  {
   "cell_type": "code",
   "execution_count": 1,
   "metadata": {},
   "outputs": [],
   "source": [
    "# for importing dataset \n",
    "import pandas as pd\n",
    "\n",
    "# for Mathematics operation\n",
    "import numpy as np\n",
    "\n",
    "# matplotlib for plotting\n",
    "import matplotlib.pyplot as plt \n",
    "%matplotlib inline\n",
    "\n",
    "# for generating random numbers\n",
    "import random\n",
    "\n",
    "from acc_calc import accuracy"
   ]
  },
  {
   "cell_type": "markdown",
   "metadata": {},
   "source": [
    "## Importing dataset and labels    \n",
    "The training data is loaded in 'features' dataframe, while the labels are stored in 'labels'.  "
   ]
  },
  {
   "cell_type": "code",
   "execution_count": 2,
   "metadata": {},
   "outputs": [],
   "source": [
    "features = pd.read_csv('train_data.csv', header = None)\n",
    "labels = pd.read_csv('train_labels.csv', header = None)"
   ]
  },
  {
   "cell_type": "markdown",
   "metadata": {},
   "source": [
    "## Data shuffling and Train-Validation split   \n",
    "The 'dataset' is generated from the above mentioned dataframes.  \n",
    "This 'dataset' dataframe is then row-wise randomly shuffled.  \n",
    "A 80-20 % Train-validation split is created out of this dataset, and is represented by 'train' and 'val' dataframes.  "
   ]
  },
  {
   "cell_type": "code",
   "execution_count": 3,
   "metadata": {},
   "outputs": [],
   "source": [
    "dataset = np.append(features, labels, axis = 1)\n",
    "np.random.shuffle(dataset)\n",
    "row, col = dataset.shape\n",
    "pct = 0.20\n",
    "\n",
    "train =  dataset[int(row*pct): ]\n",
    "val = dataset[ :int(row*pct)]"
   ]
  },
  {
   "cell_type": "markdown",
   "metadata": {},
   "source": [
    "## Input features (X) and target output (y) from 'train' and 'val' set.  "
   ]
  },
  {
   "cell_type": "code",
   "execution_count": 4,
   "metadata": {},
   "outputs": [],
   "source": [
    "X_train = train[:,:-4]\n",
    "X_val = val[:,:-4]\n",
    "\n",
    "y_train = train[:,-4:]\n",
    "y_val = val[:,-4:]"
   ]
  },
  {
   "cell_type": "code",
   "execution_count": 5,
   "metadata": {},
   "outputs": [
    {
     "data": {
      "text/plain": [
       "((19804, 784), (4950, 784), (19804, 4), (4950, 4))"
      ]
     },
     "execution_count": 5,
     "metadata": {},
     "output_type": "execute_result"
    }
   ],
   "source": [
    "X_train.shape, X_val.shape, y_train.shape, y_val.shape"
   ]
  },
  {
   "cell_type": "markdown",
   "metadata": {},
   "source": [
    "## Defining functions that are used during model training\n",
    "<ul>\n",
    "    <li>\n",
    "        <b>sigmoid:</b>  Sigmoid is used as the activation function to hidden layer as it decides, whether a neuron should be activated or not by calculating weighted sum and further adding bias with it. The purpose of the activation function is to introduce non-linearity into the output of a neuron.\n",
    "    </li>\n",
    "    &nbsp;\n",
    "    <li>\n",
    "        <b>sigmoid_derv:</b>  The sigmoid_derv returns the derivative of Sigmoid, it is a handy function to calculate and update network weights during back propogation.     \n",
    "    </li> \n",
    "    &nbsp;\n",
    "    <li>\n",
    "        <b>softmax:</b> Softmax ensures the sum of the outputs equal to 1. In case of our output, we would like to measure what is the probability of the input to each class. For instance, if a sample has a probability of 0.7 to be class 3, it is sensible to have 0.3 probability distributed among the other classes which is done by softmax. The final result a2 produced by the softmax is the output of our neural network.\n",
    "    </li> \n",
    "    &nbsp;\n",
    "    <li>\n",
    "        <b>cross_entropy:</b>  This function returns the derivative for softmax / error and will be called during the backpropagation step. Cross Entropy cost function works well when dealing with Multi-class classification problem as it computes error between two probability distributions.    \n",
    "    </li>\n",
    "    &nbsp;\n",
    "    <li>\n",
    "        <b>error:</b> This function outputs the error per epoch. It is used to keep track of model performance and see how model improves/degrades with every single epoch.   \n",
    "    </li>\n",
    "<ul>\n",
    "    "
   ]
  },
  {
   "cell_type": "code",
   "execution_count": 6,
   "metadata": {},
   "outputs": [],
   "source": [
    "def sigmoid(s):\n",
    "    return 1/(1 + np.exp(-s))\n",
    "\n",
    "def sigmoid_derv(s):\n",
    "    return s * (1 - s)\n",
    "\n",
    "# for numerical stability, values are normalised\n",
    "def softmax(s):\n",
    "    exps = np.exp(s - np.max(s, axis=1, keepdims=True))\n",
    "    return exps/np.sum(exps, axis=1, keepdims=True)\n",
    "\n",
    "def cross_entropy(pred, real):\n",
    "    n_samples = real.shape[0]\n",
    "    res = pred - real\n",
    "    return res/n_samples\n",
    "\n",
    "def error(pred, real):\n",
    "    n_samples = real.shape[0]\n",
    "    logp = - np.log(pred[np.arange(n_samples), real.argmax(axis=1)])\n",
    "    loss = np.sum(logp)/n_samples\n",
    "    return loss"
   ]
  },
  {
   "cell_type": "code",
   "execution_count": 7,
   "metadata": {},
   "outputs": [],
   "source": [
    "# Seed is set to replicate results\n",
    "np.random.seed(55)"
   ]
  },
  {
   "cell_type": "markdown",
   "metadata": {},
   "source": [
    "## Defining the structure of our network  \n",
    "We are using Object Oriented (OOP) approach to define the structure of our network, Since we are using using ... the parameters of our model are represented as class attributes. Functions like 'feedforward' and 'backprop' that updates our parameters are represented as class methods. Some other methods are also defined inside class for data transformation, prediction and plotting.  \n",
    "<ul>\n",
    "    <li>\n",
    "        <b> __init__ :  </b> The init method is called  when the object of our class is created. It initialize the object’s state. The important class variables are 'w1', 'b1', 'w2' and 'b2'. These are our network parameters. Or we can say weights of our model.  \n",
    "    </li>\n",
    "    &nbsp;\n",
    "    <li>\n",
    "        <b> feedforward :  </b> The feedforward method explains forward pass of data inside our neural network. At each epoch, (input x weights) + bias computes z and it is passed into the layers, which contains specific activation functions. These activation functions produces the output a.  The output of the current layer will be the input to the next layer and so on. The hidden layer contains sigmoid function as the activation function and the output layer has softmax as the activation function. The final result a2 produced by the softmax is the output of the neural network.\n",
    "    </li>\n",
    "    &nbsp;\n",
    "    <li>\n",
    "        <b> backprop :  </b> The backprop method explains backward pass of error inside our neural network. Fundamentally at each epoch, 'backprop' computes the error from the output of feed-forward and the true value. This error is back-propagated to all the weight matrices through computing gradients in each layer and these weights are updated so as to minimize the training error.\n",
    "    </li>\n",
    "     &nbsp;\n",
    "    <li>\n",
    "        <b> one_hot :  </b> The one_hot method is a helper method that accepts  probability distributed output produced by feedforward method and returns its one-hot encodings. For example, class 0 outputed as [0.89, 0.08, 0.01, 0.02] will be labeled as [1, 0, 0, 0] and class 3 outputed as [0.01, 0.11, 0.33, 0.55] will be labeled as [0, 0, 0, 1].   \n",
    "    </li>\n",
    "    &nbsp;\n",
    "    <li>\n",
    "        <b> one_hot :  </b> The one_hot method is a helper method that accepts an array of probability distributed output produced by feedforward method and returns its one-hot encodings. For example, class 0 outputed as [0.89, 0.08, 0.01, 0.02] will be labeled as [1, 0, 0, 0] and class 3 outputed as [0.01, 0.11, 0.33, 0.55] will be labeled as [0, 0, 0, 1].   \n",
    "    </li>\n",
    "    &nbsp;\n",
    "    <li>\n",
    "        <b> predict :  </b> The predict method is used to predict labels of unseen data in one-hot format.  \n",
    "    </li>\n",
    "     &nbsp;\n",
    "    <li>\n",
    "        <b> parameters :  </b> The parameters method is used to return dictionary of model parameters (network weights). It helps properly store model parameters onto disk for later use.\n",
    "    </li>\n",
    "    &nbsp;\n",
    "    <li>\n",
    "        <b> plot_accuracy_curve :  </b> As the name suggests, the plot_accuracy_curve method is used to generate training accuracy curve. \n",
    "    </li> \n",
    "    &nbsp;\n",
    "    <li>\n",
    "        <b> plot_loss_curve :  </b> Similar to plot_accuracy_curve, the plot_loss_curve method is used to generate training loss curve.   \n",
    "    </li>\n",
    "    \n",
    "</ul>\n"
   ]
  },
  {
   "cell_type": "code",
   "execution_count": 8,
   "metadata": {},
   "outputs": [],
   "source": [
    "class MLP:\n",
    " \n",
    "    def __init__(self, neurons, x, y, lr):\n",
    "        \n",
    "        self.x = x\n",
    "        self.y = y\n",
    "        self.lr = lr\n",
    "        \n",
    "        # The 'ip_dim' is the number of nodes/neurons at input layer \n",
    "        # (it's 784 in our case). \n",
    "        ip_dim = x.shape[1]\n",
    "        \n",
    "        # The 'op_dim' is the number of nodes/neurons at output layer \n",
    "        # (it's 4 in our case).\n",
    "        op_dim = y.shape[1]\n",
    "\n",
    "        \n",
    "        # INITIALISATION OF WEIGHTS AND BIASES\n",
    "        \n",
    "        # The Weights are initialized using Xavier Initialisation technique \n",
    "        # to prevent the problem of vanishing and exploding gradients, \n",
    "        # while the Biases are Zero Initialised.\n",
    "        \n",
    "        \n",
    "        # 'w1' => to keep track of weights at 1st layer (i.e hidden layer)\n",
    "        # Shape of 'w1' => ( 784 x no_of_hidden_layer_neurons )\n",
    "        self.w1 = np.random.randn(ip_dim, neurons) * np.sqrt(2/(ip_dim + neurons))\n",
    "        \n",
    "        # 'b2' => to keep track of bias at 1st layer (i.e hidden layer)\n",
    "        # Shape of 'b1' => ( 1 x no_of_hidden_layer_neurons )\n",
    "        self.b1 = np.zeros((1, neurons))\n",
    "        \n",
    "        # 'w2' => to keep track of weights at 2nd layer (i.e output layer)\n",
    "        # Shape of 'b1' => ( no_of_hidden_layer_neurons x 4 )\n",
    "        self.w2 = np.random.randn(neurons, op_dim) * np.sqrt(2/(neurons + op_dim))\n",
    "        \n",
    "        # 'b2' => to keep track of bias at 2nd layer (i.e output layer)\n",
    "        # Shape of 'b2' => ( 1 x 4 )\n",
    "        self.b2 = np.zeros((1, op_dim))\n",
    "        \n",
    "        # The 'accuracy_tracker' and 'loss_tracker' keeps track of  Training accuracy \n",
    "        # and traing loss at each epoch. 'epoch' is a counter that is initialized to 0 \n",
    "        # and incremented at each forward pass.\n",
    "        self.accuracy_tracker = [None]\n",
    "        self.loss_tracker = [None]\n",
    "        self.epoch = 0\n",
    "\n",
    "        \n",
    "    # FORWARD PROPOGATION: The feedforward step does matrix dot product calculation and\n",
    "    # generates a prediction. \n",
    "    \n",
    "    def feedforward(self):\n",
    "        \n",
    "        self.epoch += 1\n",
    "       \n",
    "        z1 = np.dot(self.x, self.w1) + self.b1\n",
    "        self.a1 = sigmoid(z1)\n",
    "        \n",
    "        z2 = np.dot(self.a1, self.w2) + self.b2\n",
    "        self.a2 = softmax(z2)\n",
    "\n",
    "        self.predictions = self.one_hot(self.a2)\n",
    "        \n",
    "        acc = accuracy(self.y, self.predictions)\n",
    "        self.accuracy_tracker = self.accuracy_tracker + [acc*100]\n",
    "        \n",
    "        if self.epoch %10 == 0:\n",
    "            print(\"Epoch:\", self.epoch)\n",
    "            print(\"Training accuracy: \", acc*100)\n",
    "        \n",
    "    # The backprop step calculates the error from the feedforward prediction and makes \n",
    "    # small adjustments to the weights.\n",
    "    \n",
    "    def backprop(self):\n",
    "        \n",
    "        loss = error(self.a2, self.y)\n",
    "        \n",
    "        a2_delta = cross_entropy(self.a2, self.y) # w2\n",
    "        z1_delta = np.dot(a2_delta, self.w2.T)\n",
    "        a1_delta = z1_delta * sigmoid_derv(self.a1) # w1\n",
    "        \n",
    "        self.w2 -= self.lr * np.dot(self.a1.T, a2_delta)\n",
    "        self.b2 -= self.lr * np.sum(a2_delta, axis=0, keepdims=True)\n",
    "        self.w1 -= self.lr * np.dot(self.x.T, a1_delta)\n",
    "        self.b1 -= self.lr * np.sum(a1_delta, axis=0)\n",
    "        self.loss_tracker = self.loss_tracker + [loss]\n",
    "        \n",
    "        if self.epoch %10 == 0:\n",
    "            print('Training Error:', loss, '\\n')\n",
    "\n",
    "    def one_hot(self, data):\n",
    "        self.q = data.argmax(axis=-1)\n",
    "        self.my_list = list()\n",
    "        for i in self.q:\n",
    "            t = [0,0,0,0]\n",
    "            t[i] = 1\n",
    "            self.my_list.append(t)\n",
    "            \n",
    "        return (np.array(self.my_list))\n",
    "    \n",
    "    def predict(self, data):\n",
    "        self.x = data\n",
    "        z1 = np.dot(self.x, self.w1) + self.b1\n",
    "        self.a1 = sigmoid(z1)\n",
    "        z2 = np.dot(self.a1, self.w2) + self.b2\n",
    "        self.a2 = softmax(z2)\n",
    "        return (self.one_hot(self.a2))\n",
    "\n",
    "    def parameters(self):\n",
    "        self.param = {\n",
    "            'w1': self.w1,\n",
    "            'w2': self.w2,\n",
    "            'b1': self.b1,\n",
    "            'b2': self.b2,\n",
    "        }\n",
    "        return (self.param)\n",
    "             \n",
    "    def plot_accuracy_curve(self):\n",
    "        import matplotlib.pyplot as plt\n",
    "        plt.figure(figsize=(8, 6))\n",
    "        plt.plot(self.accuracy_tracker)\n",
    "        plt.grid()\n",
    "        plt.title(\"Training Accuracy Vs. Epoch\")\n",
    "        plt.xlabel('Epochs')\n",
    "        plt.ylabel('Training Accuracy')\n",
    "        plt.show()\n",
    "        \n",
    "    def plot_loss_curve(self):\n",
    "        import matplotlib.pyplot as plt\n",
    "        plt.figure(figsize=(8, 6))\n",
    "        plt.plot(self.loss_tracker)\n",
    "        plt.grid()\n",
    "        plt.title(\"Training Loss Vs. Epoch\")\n",
    "        plt.xlabel('Epochs')\n",
    "        plt.ylabel('Training Loss')\n",
    "        plt.show()\n"
   ]
  },
  {
   "cell_type": "markdown",
   "metadata": {},
   "source": [
    "## Model Initialization\n",
    "The model is initialized by creating the 'model' object of MLP class which calls the constructor (__init__) method. Here we are going to use 64 neurons at hidden layer and will pass the trainset data along with labels. w'll set the learning rate to 0.5."
   ]
  },
  {
   "cell_type": "code",
   "execution_count": 9,
   "metadata": {},
   "outputs": [],
   "source": [
    "model = MLP(neurons = 32, x = X_train, y = y_train, lr = 0.5)"
   ]
  },
  {
   "cell_type": "markdown",
   "metadata": {},
   "source": [
    "## Training the model\n",
    "The model is trained for 100 epochs. The actual training is implemented with a *for* loop that calls feedforward() and backprop() methods for every epoch. "
   ]
  },
  {
   "cell_type": "code",
   "execution_count": 10,
   "metadata": {
    "scrolled": false
   },
   "outputs": [
    {
     "name": "stdout",
     "output_type": "stream",
     "text": [
      "Epoch: 10\n",
      "Training accuracy:  92.0420117148051\n",
      "Training Error: 0.6266253142550882 \n",
      "\n",
      "Epoch: 20\n",
      "Training accuracy:  93.77903453847708\n",
      "Training Error: 0.36350207244058136 \n",
      "\n",
      "Epoch: 30\n",
      "Training accuracy:  94.5061603716421\n",
      "Training Error: 0.2685433998540002 \n",
      "\n",
      "Epoch: 40\n",
      "Training accuracy:  94.92021813774994\n",
      "Training Error: 0.22224281808287621 \n",
      "\n",
      "Epoch: 50\n",
      "Training accuracy:  95.27873156937993\n",
      "Training Error: 0.19500021245451618 \n",
      "\n",
      "Epoch: 60\n",
      "Training accuracy:  95.49585942233892\n",
      "Training Error: 0.1769991911117481 \n",
      "\n",
      "Epoch: 70\n",
      "Training accuracy:  95.70288830539285\n",
      "Training Error: 0.16415301465261586 \n",
      "\n",
      "Epoch: 80\n",
      "Training accuracy:  95.84427388406382\n",
      "Training Error: 0.15447272866809963 \n",
      "\n",
      "Epoch: 90\n",
      "Training accuracy:  95.9856594627348\n",
      "Training Error: 0.14687733570985329 \n",
      "\n",
      "Epoch: 100\n",
      "Training accuracy:  96.1169460715007\n",
      "Training Error: 0.14072937083971426 \n",
      "\n"
     ]
    }
   ],
   "source": [
    "epochs = 100\n",
    "for x in range(epochs):\n",
    "    model.feedforward()\n",
    "    model.backprop()"
   ]
  },
  {
   "cell_type": "markdown",
   "metadata": {},
   "source": [
    "## Extracting trained Model parameters\n",
    "The parameters() method is called to receive trained parameters into 'params' variable. This variable is then stored onto disk with Numpys .save() method."
   ]
  },
  {
   "cell_type": "code",
   "execution_count": 11,
   "metadata": {},
   "outputs": [],
   "source": [
    "params = model.parameters()\n",
    "np.save('mlp_params.npy', params)"
   ]
  },
  {
   "cell_type": "markdown",
   "metadata": {},
   "source": [
    "## Final Training Accuracy"
   ]
  },
  {
   "cell_type": "code",
   "execution_count": 12,
   "metadata": {
    "scrolled": true
   },
   "outputs": [
    {
     "name": "stdout",
     "output_type": "stream",
     "text": [
      "Training accuracy   :  96.12704504140578\n"
     ]
    }
   ],
   "source": [
    "# Training Accuracy\n",
    "print(\"Training accuracy   : \", accuracy(y_train, model.predict(X_train))*100)"
   ]
  },
  {
   "cell_type": "markdown",
   "metadata": {},
   "source": [
    "## Performance on Unseen Data\n",
    "The validation set is used to measure the performance of our model. Accuracy is used as performance matrix. "
   ]
  },
  {
   "cell_type": "code",
   "execution_count": 13,
   "metadata": {
    "scrolled": true
   },
   "outputs": [
    {
     "name": "stdout",
     "output_type": "stream",
     "text": [
      "Validation accuracy :  95.79797979797979\n"
     ]
    }
   ],
   "source": [
    "# Validation Accuracy\n",
    "print(\"Validation accuracy : \", accuracy(y_val, model.predict(X_val))*100)"
   ]
  },
  {
   "cell_type": "markdown",
   "metadata": {},
   "source": [
    "Since Both (training and validation) accuracies are High it is clear that the model is not underfitting. Also the validation accuracy on unseen data is quite close to the training accuracy of the model so we can say that the model is not overfitting the data and it has properly converged to the global minimum."
   ]
  },
  {
   "cell_type": "markdown",
   "metadata": {},
   "source": [
    "## Training Accuracy vs. Epoch graph\n"
   ]
  },
  {
   "cell_type": "code",
   "execution_count": 14,
   "metadata": {
    "scrolled": false
   },
   "outputs": [
    {
     "data": {
      "image/png": "[encoded data removed]",
      "text/plain": [
       "<Figure size 576x432 with 1 Axes>"
      ]
     },
     "metadata": {
      "needs_background": "light"
     },
     "output_type": "display_data"
    }
   ],
   "source": [
    "model.plot_accuracy_curve()"
   ]
  },
  {
   "cell_type": "markdown",
   "metadata": {},
   "source": [
    "From the above accuracy curve, it is visible that the model accuracy improves with every epoch and platues after around 20 epochs. Thus we can say that the model did not get converge at any local minima and followes ideal training path.\n"
   ]
  },
  {
   "cell_type": "markdown",
   "metadata": {},
   "source": [
    "## Training Loss vs. Epoch graph\n"
   ]
  },
  {
   "cell_type": "code",
   "execution_count": 15,
   "metadata": {
    "scrolled": false
   },
   "outputs": [
    {
     "data": {
      "image/png": "[encoded data removed]",
      "text/plain": [
       "<Figure size 576x432 with 1 Axes>"
      ]
     },
     "metadata": {
      "needs_background": "light"
     },
     "output_type": "display_data"
    }
   ],
   "source": [
    "model.plot_loss_curve()"
   ]
  },
  {
   "cell_type": "markdown",
   "metadata": {},
   "source": [
    "The above training error curve is ideal. The model converges between 20-40 epochs and approaches to a constant loss of 0.14."
   ]
  }
 ],
 "metadata": {
  "kernelspec": {
   "display_name": "Python 3",
   "language": "python",
   "name": "python3"
  },
  "language_info": {
   "codemirror_mode": {
    "name": "ipython",
    "version": 3
   },
   "file_extension": ".py",
   "mimetype": "text/x-python",
   "name": "python",
   "nbconvert_exporter": "python",
   "pygments_lexer": "ipython3",
   "version": "3.8.5"
  }
 },
 "nbformat": 4,
 "nbformat_minor": 4
}
