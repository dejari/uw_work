{
 "cells": [
  {
   "cell_type": "code",
   "execution_count": 27,
   "id": "forward-lunch",
   "metadata": {},
   "outputs": [],
   "source": [
    "import numpy as np\n",
    "import pandas as pd\n",
    "import matplotlib.pyplot as plt\n",
    "import seaborn as sns\n",
    "sns.set()\n",
    "\n",
    "import tensorflow as tf\n",
    "from sklearn.model_selection import train_test_split\n",
    "from sklearn.metrics import accuracy_score, confusion_matrix\n",
    "from sklearn.preprocessing import StandardScaler\n",
    "from sklearn.preprocessing import LabelEncoder\n",
    "from sklearn.model_selection import KFold\n",
    "from sklearn.preprocessing import OneHotEncoder\n",
    "from mlxtend.plotting import plot_confusion_matrix\n",
    "from tensorflow.keras.layers import Dropout\n",
    "from tensorflow.keras.regularizers import l2\n",
    "from tensorflow.keras.layers import BatchNormalization"
   ]
  },
  {
   "cell_type": "code",
   "execution_count": 28,
   "id": "wireless-bridges",
   "metadata": {},
   "outputs": [],
   "source": [
    "dataset = pd.read_csv(\"COVID_dataset_train.csv\")"
   ]
  },
  {
   "cell_type": "code",
   "execution_count": 29,
   "id": "integrated-concern",
   "metadata": {},
   "outputs": [],
   "source": [
    "# replacing NaN in Outbreak_Related with NO \n",
    "dataset['Outbreak_Related'] = dataset['Outbreak_Related'].fillna(\"No\") \n",
    "\n",
    "# Dropping NaN values in Age_Group, Test_reported_date and specimen_date\n",
    "dataset = dataset.dropna()"
   ]
  },
  {
   "cell_type": "code",
   "execution_count": 30,
   "id": "insured-merit",
   "metadata": {},
   "outputs": [],
   "source": [
    "dataset.Accurate_Episode_Date = pd.to_datetime(dataset.Accurate_Episode_Date)\n",
    "dataset.Case_Reported_Date = pd.to_datetime(dataset.Case_Reported_Date)\n",
    "dataset.Test_Reported_Date = pd.to_datetime(dataset.Test_Reported_Date)\n",
    "dataset.Specimen_Date = pd.to_datetime(dataset.Specimen_Date)\n",
    "\n",
    "dataset = dataset.drop(['Test_Reported_Date', 'Specimen_Date'],axis=1)"
   ]
  },
  {
   "cell_type": "code",
   "execution_count": 31,
   "id": "italic-jerusalem",
   "metadata": {},
   "outputs": [],
   "source": [
    "dataset.Case_Reported_Date = list(map(lambda x: x.timestamp(),dataset.Case_Reported_Date))\n",
    "dataset.Accurate_Episode_Date = list(map(lambda x: x.timestamp(),dataset.Accurate_Episode_Date))"
   ]
  },
  {
   "cell_type": "code",
   "execution_count": 32,
   "id": "primary-oxide",
   "metadata": {},
   "outputs": [],
   "source": [
    "## encoding of target variable\n",
    "dataset_target = dataset['Outcome1']\n",
    "dataset_target = pd.DataFrame(dataset_target, columns = ['Outcome1'])\n",
    "\n",
    "categorical_cols = ['Outcome1']\n",
    "\n",
    "# Create the encoder.\n",
    "encoder_1 = OneHotEncoder(categories = \"auto\", handle_unknown=\"error\", sparse = False)\n",
    "\n",
    "# Fit and transform encoder to X\n",
    "array_hot_encoded_1 = encoder_1.fit_transform(dataset_target)\n",
    "\n",
    "# convert it to a Data Frame\n",
    "data_hot_encoded_1 = pd.DataFrame(array_hot_encoded_1, index=dataset_target.index)\n",
    "\n",
    "# set column names of encoded dataframe\n",
    "data_hot_encoded_1.columns = encoder_1.get_feature_names(categorical_cols)\n",
    "\n",
    "dataset_target_1 = data_hot_encoded_1"
   ]
  },
  {
   "cell_type": "code",
   "execution_count": 33,
   "id": "greenhouse-south",
   "metadata": {},
   "outputs": [],
   "source": [
    "## encoding of features\n",
    "dataset_features = dataset.drop(['Outcome1'], axis = 1)\n",
    "\n",
    "dataset_features['Age_Group'] = dataset_features['Age_Group'].replace({'<20': 1, '20s': 2, '30s': 3 , '40s': 4, '50s': 5, '60s': 6, '70s': 7, '80s': 8, '90s': 9})\n",
    "\n",
    "categorical_cols = ['Client_Gender','Case_AcquisitionInfo','Reporting_PHU_City','Outbreak_Related']\n",
    "\n",
    "# Create the encoder.\n",
    "encoder = OneHotEncoder(categories = \"auto\", handle_unknown=\"error\", sparse = False)\n",
    "\n",
    "# Fit and transform encoder to X\n",
    "array_hot_encoded = encoder.fit_transform(dataset_features[categorical_cols])\n",
    "\n",
    "# convert it to a Data Frame\n",
    "data_hot_encoded = pd.DataFrame(array_hot_encoded, index=dataset.index)\n",
    "\n",
    "# set column names of encoded dataframe\n",
    "data_hot_encoded.columns = encoder.get_feature_names(categorical_cols)\n",
    "\n",
    "# concatenate other columns with the encoded columns to get the final datset\n",
    "data_other_cols = dataset_features.drop(columns=categorical_cols)\n",
    "dataset_temp = pd.concat([data_hot_encoded, data_other_cols], axis=1)\n",
    "dataset_features = dataset_temp"
   ]
  },
  {
   "cell_type": "code",
   "execution_count": 34,
   "id": "civic-retail",
   "metadata": {},
   "outputs": [],
   "source": [
    "# X_train, X_test, y_train, y_test = train_test_split(dataset_features, dataset_target_1, test_size = 0.10)"
   ]
  },
  {
   "cell_type": "code",
   "execution_count": 35,
   "id": "outer-negotiation",
   "metadata": {},
   "outputs": [],
   "source": [
    "X_train = dataset_features\n",
    "y_train = dataset_target_1"
   ]
  },
  {
   "cell_type": "code",
   "execution_count": 36,
   "id": "aerial-finder",
   "metadata": {},
   "outputs": [],
   "source": [
    "from sklearn.preprocessing import StandardScaler\n",
    "numeric_columns = ['Reporting_PHU_Longitude', 'Reporting_PHU_Latitude','Case_Reported_Date', 'Accurate_Episode_Date']\n",
    "\n",
    "sc = StandardScaler()\n",
    "\n",
    "X_train_scaled = X_train.copy()\n",
    "\n",
    "\n",
    "X_train_scaled[numeric_columns] = sc.fit_transform(X_train[numeric_columns])\n"
   ]
  },
  {
   "cell_type": "code",
   "execution_count": 37,
   "id": "separated-greek",
   "metadata": {},
   "outputs": [],
   "source": [
    "# X_test_scaled = X_test.copy()\n",
    "# X_test_scaled[numeric_columns] = sc.transform(X_test[numeric_columns])"
   ]
  },
  {
   "cell_type": "code",
   "execution_count": 38,
   "id": "religious-litigation",
   "metadata": {},
   "outputs": [],
   "source": [
    "from tensorflow.keras.models import Sequential\n",
    "from tensorflow.keras.layers import Dense, Activation\n",
    "import tensorflow as tf\n",
    "\n",
    "# INITIALING ANN\n",
    "ann = tf.keras.models.Sequential()\n",
    "\n",
    "# ADDING INPUT LAYER AND FIRST HIDDEN LAYER\n",
    "ann.add(tf.keras.layers.Dense(units = 112, activation='relu'))\n",
    "ann.add(Dropout(0.05))\n",
    "\n",
    "# ADDING SECOND HIDDEN LAYER\n",
    "ann.add(tf.keras.layers.Dense(units=448, activation='relu', kernel_regularizer=l2(0.001)))\n",
    "\n",
    "# ADDING THIRD HIDDEN LAYER\n",
    "ann.add(tf.keras.layers.Dense(units=56, activation='relu'))\n",
    "\n",
    "# ADDING OUTPUT LAYER\n",
    "ann.add(tf.keras.layers.Dense(units=3, activation='softmax'))\n",
    "\n",
    "ann.compile(optimizer='adam', loss='categorical_crossentropy', metrics=['accuracy'])"
   ]
  },
  {
   "cell_type": "code",
   "execution_count": 39,
   "id": "heavy-choir",
   "metadata": {},
   "outputs": [
    {
     "name": "stdout",
     "output_type": "stream",
     "text": [
      "Epoch 1/400\n",
      "WARNING:tensorflow:Layer dense_4 is casting an input tensor from dtype float64 to the layer's dtype of float32, which is new behavior in TensorFlow 2.  The layer has dtype float32 because its dtype defaults to floatx.\n",
      "\n",
      "If you intended to run this layer in float32, you can safely ignore this warning. If in doubt, this warning is likely only an issue if you are porting a TensorFlow 1.X model to TensorFlow 2.\n",
      "\n",
      "To change all layers to have dtype float64 by default, call `tf.keras.backend.set_floatx('float64')`. To change just this layer, pass dtype='float64' to the layer constructor. If you are the author of this layer, you can disable autocasting by passing autocast=False to the base Layer constructor.\n",
      "\n",
      "390/390 [==============================] - 4s 11ms/step - loss: 0.5358 - accuracy: 0.8315 - val_loss: 0.3710 - val_accuracy: 0.8926\n",
      "Epoch 2/400\n",
      "390/390 [==============================] - 2s 6ms/step - loss: 0.3791 - accuracy: 0.8815 - val_loss: 0.3527 - val_accuracy: 0.8876\n",
      "Epoch 3/400\n",
      "390/390 [==============================] - 2s 6ms/step - loss: 0.3383 - accuracy: 0.8934 - val_loss: 0.3841 - val_accuracy: 0.8781\n",
      "Epoch 4/400\n",
      "390/390 [==============================] - 2s 6ms/step - loss: 0.3188 - accuracy: 0.8964 - val_loss: 0.3095 - val_accuracy: 0.8904\n",
      "Epoch 5/400\n",
      "390/390 [==============================] - 3s 6ms/step - loss: 0.3011 - accuracy: 0.8989 - val_loss: 0.2894 - val_accuracy: 0.8995\n",
      "Epoch 6/400\n",
      "390/390 [==============================] - 2s 6ms/step - loss: 0.2882 - accuracy: 0.9033 - val_loss: 0.2774 - val_accuracy: 0.9040\n",
      "Epoch 7/400\n",
      "390/390 [==============================] - 3s 7ms/step - loss: 0.2801 - accuracy: 0.9055 - val_loss: 0.2923 - val_accuracy: 0.8949\n",
      "Epoch 8/400\n",
      "390/390 [==============================] - 2s 6ms/step - loss: 0.2791 - accuracy: 0.9056 - val_loss: 0.2856 - val_accuracy: 0.9004\n",
      "Epoch 9/400\n",
      "390/390 [==============================] - 2s 5ms/step - loss: 0.2736 - accuracy: 0.9084 - val_loss: 0.2784 - val_accuracy: 0.9035\n",
      "Epoch 10/400\n",
      "390/390 [==============================] - 2s 5ms/step - loss: 0.2661 - accuracy: 0.9080 - val_loss: 0.2705 - val_accuracy: 0.9040\n",
      "Epoch 11/400\n",
      "390/390 [==============================] - 2s 6ms/step - loss: 0.2630 - accuracy: 0.9105 - val_loss: 0.3215 - val_accuracy: 0.8826\n",
      "Epoch 12/400\n",
      "390/390 [==============================] - 2s 6ms/step - loss: 0.2616 - accuracy: 0.9097 - val_loss: 0.2655 - val_accuracy: 0.9049\n",
      "Epoch 13/400\n",
      "390/390 [==============================] - 2s 6ms/step - loss: 0.2583 - accuracy: 0.9109 - val_loss: 0.2798 - val_accuracy: 0.9022\n",
      "Epoch 14/400\n",
      "390/390 [==============================] - 2s 5ms/step - loss: 0.2535 - accuracy: 0.9113 - val_loss: 0.2665 - val_accuracy: 0.9081\n",
      "Epoch 15/400\n",
      "390/390 [==============================] - 2s 5ms/step - loss: 0.2513 - accuracy: 0.9142 - val_loss: 0.2752 - val_accuracy: 0.9022\n",
      "Epoch 16/400\n",
      "390/390 [==============================] - 2s 5ms/step - loss: 0.2553 - accuracy: 0.9113 - val_loss: 0.2940 - val_accuracy: 0.8981\n",
      "Epoch 17/400\n",
      "390/390 [==============================] - 2s 6ms/step - loss: 0.2536 - accuracy: 0.9115 - val_loss: 0.2628 - val_accuracy: 0.9108 0.2560 - accu\n",
      "Epoch 18/400\n",
      "390/390 [==============================] - 2s 5ms/step - loss: 0.2472 - accuracy: 0.9155 - val_loss: 0.3140 - val_accuracy: 0.8808\n",
      "Epoch 19/400\n",
      "390/390 [==============================] - 2s 6ms/step - loss: 0.2520 - accuracy: 0.9121 - val_loss: 0.2712 - val_accuracy: 0.9054\n",
      "Epoch 20/400\n",
      "390/390 [==============================] - 2s 5ms/step - loss: 0.2455 - accuracy: 0.9160 - val_loss: 0.2679 - val_accuracy: 0.9076\n",
      "Epoch 21/400\n",
      "390/390 [==============================] - 2s 5ms/step - loss: 0.2463 - accuracy: 0.9150 - val_loss: 0.2817 - val_accuracy: 0.9004\n",
      "Epoch 22/400\n",
      "390/390 [==============================] - 1s 4ms/step - loss: 0.2428 - accuracy: 0.9137 - val_loss: 0.2783 - val_accuracy: 0.9017\n",
      "Epoch 23/400\n",
      "390/390 [==============================] - 1s 1ms/step - loss: 0.2465 - accuracy: 0.9142 - val_loss: 0.2712 - val_accuracy: 0.9067\n",
      "Epoch 24/400\n",
      "390/390 [==============================] - 1s 1ms/step - loss: 0.2372 - accuracy: 0.9179 - val_loss: 0.2684 - val_accuracy: 0.9063\n",
      "Epoch 25/400\n",
      "390/390 [==============================] - 1s 1ms/step - loss: 0.2394 - accuracy: 0.9164 - val_loss: 0.2863 - val_accuracy: 0.8981\n",
      "Epoch 26/400\n",
      "390/390 [==============================] - 1s 1ms/step - loss: 0.2389 - accuracy: 0.9178 - val_loss: 0.2989 - val_accuracy: 0.8954\n",
      "Epoch 27/400\n",
      "390/390 [==============================] - 1s 2ms/step - loss: 0.2406 - accuracy: 0.9174 - val_loss: 0.2849 - val_accuracy: 0.8949\n"
     ]
    }
   ],
   "source": [
    "from tensorflow.keras.callbacks import EarlyStopping\n",
    "\n",
    "callback = EarlyStopping(monitor='val_loss', patience = 10)\n",
    "\n",
    "fitted_model = ann.fit(X_train_scaled, y_train, validation_split = 0.15, callbacks = [callback], epochs= 400, verbose=1)"
   ]
  },
  {
   "cell_type": "code",
   "execution_count": 40,
   "id": "documented-cleaning",
   "metadata": {},
   "outputs": [
    {
     "data": {
      "image/png": "[encoded data removed]",
      "text/plain": [
       "<Figure size 432x288 with 1 Axes>"
      ]
     },
     "metadata": {},
     "output_type": "display_data"
    }
   ],
   "source": [
    "# summarize history for accuracy\n",
    "plt.plot(fitted_model.history['accuracy'], c = 'green', label = 'acc')\n",
    "plt.plot(fitted_model.history['val_accuracy'], c = 'red', label = 'val_acc')\n",
    "plt.title('model accuracy')\n",
    "plt.ylabel('accuracy')\n",
    "plt.xlabel('epoch')\n",
    "plt.show()"
   ]
  },
  {
   "cell_type": "code",
   "execution_count": 41,
   "id": "infectious-puppy",
   "metadata": {},
   "outputs": [
    {
     "data": {
      "image/png": "[encoded data removed]",
      "text/plain": [
       "<Figure size 432x288 with 1 Axes>"
      ]
     },
     "metadata": {},
     "output_type": "display_data"
    }
   ],
   "source": [
    "# summarize history for loss\n",
    "plt.plot(fitted_model.history['loss'])\n",
    "plt.plot(fitted_model.history['val_loss'])\n",
    "plt.title('model loss')\n",
    "plt.ylabel('loss')\n",
    "plt.xlabel('epoch')\n",
    "plt.show()"
   ]
  },
  {
   "cell_type": "code",
   "execution_count": 42,
   "id": "convenient-specific",
   "metadata": {},
   "outputs": [],
   "source": [
    "# # FOR TESTING ON TRAINING SET\n",
    "\n",
    "# # check test set accuracy\n",
    "# results_train = ann.predict(X_test_scaled)\n",
    "\n",
    "# pred_values_train= []\n",
    "# for result in results_train:\n",
    "#     entry = [0,0,0]\n",
    "#     index = result.argmax()\n",
    "#     entry[index] = 1\n",
    "#     pred_values_train.append(entry)\n",
    "    \n",
    "# from sklearn.metrics import confusion_matrix, accuracy_score\n",
    "# accuracy_score(y_test, pred_values_train)"
   ]
  },
  {
   "cell_type": "code",
   "execution_count": 43,
   "id": "attached-newcastle",
   "metadata": {},
   "outputs": [],
   "source": [
    "dataset_test = pd.read_csv(\"COVID_dataset_test.csv\")\n",
    "dataset_test.head(5)\n",
    "\n",
    "# replacing NaN in Outbreak_Related with NO \n",
    "dataset_test['Outbreak_Related'] = dataset_test['Outbreak_Related'].fillna(\"No\") \n",
    "\n",
    "dataset_test.Accurate_Episode_Date = pd.to_datetime(dataset_test.Accurate_Episode_Date)\n",
    "dataset_test.Case_Reported_Date = pd.to_datetime(dataset_test.Case_Reported_Date)\n",
    "dataset_test.Test_Reported_Date = pd.to_datetime(dataset_test.Test_Reported_Date)\n",
    "dataset_test.Specimen_Date = pd.to_datetime(dataset_test.Specimen_Date)\n",
    "\n",
    "dataset_test = dataset_test.drop(['Test_Reported_Date', 'Specimen_Date'],axis=1)\n",
    "\n",
    "dataset_test.Case_Reported_Date = list(map(lambda x: x.timestamp(),dataset_test.Case_Reported_Date))\n",
    "dataset_test.Accurate_Episode_Date = list(map(lambda x: x.timestamp(),dataset_test.Accurate_Episode_Date))\n",
    "\n",
    "dataset_test['Age_Group'] = dataset_test['Age_Group'].replace({'<20': 1, '20s': 2, '30s': 3 , '40s': 4, '50s': 5, '60s': 6, '70s': 7, '80s': 8, '90s': 9})\n",
    "\n",
    "categorical_cols = ['Client_Gender','Case_AcquisitionInfo','Reporting_PHU_City','Outbreak_Related']\n",
    "\n",
    "array_hot_encoded = encoder.transform(dataset_test[categorical_cols])\n",
    "\n",
    "# convert it to a Data Frame\n",
    "data_hot_encoded = pd.DataFrame(array_hot_encoded, index=dataset_test.index)\n",
    "\n",
    "# set column names of encoded dataframe\n",
    "data_hot_encoded.columns = encoder.get_feature_names(categorical_cols)\n",
    "\n",
    "# concatenate other columns with the encoded columns to get the final datset\n",
    "data_other_cols = dataset_test.drop(columns=categorical_cols)\n",
    "dataset_temp = pd.concat([data_hot_encoded, data_other_cols], axis=1)\n",
    "\n",
    "dataset_testing_final = dataset_temp.drop(['id'], axis = 1)"
   ]
  },
  {
   "cell_type": "code",
   "execution_count": 44,
   "id": "cordless-desperate",
   "metadata": {},
   "outputs": [],
   "source": [
    "numeric_columns = ['Reporting_PHU_Longitude', 'Reporting_PHU_Latitude','Case_Reported_Date', 'Accurate_Episode_Date']\n",
    "\n",
    "X_test_scaled = dataset_testing_final.copy()\n",
    "\n",
    "X_test_scaled[numeric_columns] = sc.transform(dataset_testing_final[numeric_columns])"
   ]
  },
  {
   "cell_type": "code",
   "execution_count": 45,
   "id": "married-forum",
   "metadata": {},
   "outputs": [],
   "source": [
    "# check test set accuracy\n",
    "results = ann.predict(X_test_scaled)"
   ]
  },
  {
   "cell_type": "code",
   "execution_count": 46,
   "id": "constant-special",
   "metadata": {},
   "outputs": [],
   "source": [
    "pred_values= []\n",
    "for result in results:\n",
    "    entry = [0,0,0]\n",
    "    index = result.argmax()\n",
    "    entry[index] = 1\n",
    "    pred_values.append(entry)"
   ]
  },
  {
   "cell_type": "code",
   "execution_count": 47,
   "id": "mysterious-boards",
   "metadata": {},
   "outputs": [],
   "source": [
    "result = []\n",
    "for i in range(0, len(pred_values)):\n",
    "    for j in range(3):\n",
    "        if pred_values[i][j] == 1:\n",
    "            if j == 0:\n",
    "                result.append('Fatal')\n",
    "            elif j == 1:\n",
    "                result.append('Not Resolved')\n",
    "            elif j == 2:\n",
    "                result.append('Resolved')"
   ]
  },
  {
   "cell_type": "code",
   "execution_count": 48,
   "id": "serial-lexington",
   "metadata": {},
   "outputs": [],
   "source": [
    "output = pd.DataFrame(columns = ['Id','Outcome1'])\n",
    "output['Id'] = dataset_test['id'] \n",
    "output['Outcome1'] = result"
   ]
  },
  {
   "cell_type": "code",
   "execution_count": 51,
   "id": "floating-torture",
   "metadata": {},
   "outputs": [],
   "source": [
    "output.to_csv(\"Group_41_DATE_seconds_try3.csv\", index = False)"
   ]
  },
  {
   "cell_type": "code",
   "execution_count": 52,
   "id": "activated-interaction",
   "metadata": {},
   "outputs": [
    {
     "data": {
      "text/html": [
       "<div>\n",
       "<style scoped>\n",
       "    .dataframe tbody tr th:only-of-type {\n",
       "        vertical-align: middle;\n",
       "    }\n",
       "\n",
       "    .dataframe tbody tr th {\n",
       "        vertical-align: top;\n",
       "    }\n",
       "\n",
       "    .dataframe thead th {\n",
       "        text-align: right;\n",
       "    }\n",
       "</style>\n",
       "<table border=\"1\" class=\"dataframe\">\n",
       "  <thead>\n",
       "    <tr style=\"text-align: right;\">\n",
       "      <th></th>\n",
       "      <th>Id</th>\n",
       "      <th>Outcome1</th>\n",
       "    </tr>\n",
       "  </thead>\n",
       "  <tbody>\n",
       "    <tr>\n",
       "      <th>0</th>\n",
       "      <td>0</td>\n",
       "      <td>Resolved</td>\n",
       "    </tr>\n",
       "    <tr>\n",
       "      <th>1</th>\n",
       "      <td>1</td>\n",
       "      <td>Resolved</td>\n",
       "    </tr>\n",
       "    <tr>\n",
       "      <th>2</th>\n",
       "      <td>2</td>\n",
       "      <td>Resolved</td>\n",
       "    </tr>\n",
       "    <tr>\n",
       "      <th>3</th>\n",
       "      <td>3</td>\n",
       "      <td>Fatal</td>\n",
       "    </tr>\n",
       "    <tr>\n",
       "      <th>4</th>\n",
       "      <td>4</td>\n",
       "      <td>Not Resolved</td>\n",
       "    </tr>\n",
       "    <tr>\n",
       "      <th>...</th>\n",
       "      <td>...</td>\n",
       "      <td>...</td>\n",
       "    </tr>\n",
       "    <tr>\n",
       "      <th>3699</th>\n",
       "      <td>3699</td>\n",
       "      <td>Not Resolved</td>\n",
       "    </tr>\n",
       "    <tr>\n",
       "      <th>3700</th>\n",
       "      <td>3700</td>\n",
       "      <td>Fatal</td>\n",
       "    </tr>\n",
       "    <tr>\n",
       "      <th>3701</th>\n",
       "      <td>3701</td>\n",
       "      <td>Resolved</td>\n",
       "    </tr>\n",
       "    <tr>\n",
       "      <th>3702</th>\n",
       "      <td>3702</td>\n",
       "      <td>Not Resolved</td>\n",
       "    </tr>\n",
       "    <tr>\n",
       "      <th>3703</th>\n",
       "      <td>3703</td>\n",
       "      <td>Fatal</td>\n",
       "    </tr>\n",
       "  </tbody>\n",
       "</table>\n",
       "<p>3704 rows × 2 columns</p>\n",
       "</div>"
      ],
      "text/plain": [
       "        Id      Outcome1\n",
       "0        0      Resolved\n",
       "1        1      Resolved\n",
       "2        2      Resolved\n",
       "3        3         Fatal\n",
       "4        4  Not Resolved\n",
       "...    ...           ...\n",
       "3699  3699  Not Resolved\n",
       "3700  3700         Fatal\n",
       "3701  3701      Resolved\n",
       "3702  3702  Not Resolved\n",
       "3703  3703         Fatal\n",
       "\n",
       "[3704 rows x 2 columns]"
      ]
     },
     "execution_count": 52,
     "metadata": {},
     "output_type": "execute_result"
    }
   ],
   "source": [
    "output"
   ]
  },
  {
   "cell_type": "code",
   "execution_count": null,
   "id": "affected-poison",
   "metadata": {},
   "outputs": [],
   "source": []
  }
 ],
 "metadata": {
  "kernelspec": {
   "display_name": "Python 3",
   "language": "python",
   "name": "python3"
  },
  "language_info": {
   "codemirror_mode": {
    "name": "ipython",
    "version": 3
   },
   "file_extension": ".py",
   "mimetype": "text/x-python",
   "name": "python",
   "nbconvert_exporter": "python",
   "pygments_lexer": "ipython3",
   "version": "3.8.8"
  }
 },
 "nbformat": 4,
 "nbformat_minor": 5
}
